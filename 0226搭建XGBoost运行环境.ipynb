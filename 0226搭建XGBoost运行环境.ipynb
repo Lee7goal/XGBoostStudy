{
 "cells": [
  {
   "cell_type": "code",
   "execution_count": 12,
   "metadata": {
    "collapsed": true,
    "pycharm": {
     "is_executing": false
    }
   },
   "outputs": [],
   "source": [
    "# code: 'utf-8'\n",
    "# 通过pip安装\n",
    "# pip install xgboost\n",
    "import xgboost as xgb\n",
    "import numpy as np"
   ]
  },
  {
   "cell_type": "code",
   "execution_count": 13,
   "outputs": [],
   "source": [
    "# https://www.lfd.uci.edu/~gohlke/pythonlibs/#xgboost\n",
    "# 在这个地方下载whl文件进行安装"
   ],
   "metadata": {
    "collapsed": false,
    "pycharm": {
     "name": "#%%\n",
     "is_executing": false
    }
   }
  },
  {
   "cell_type": "code",
   "execution_count": 14,
   "outputs": [
    {
     "name": "stdout",
     "text": [
      "[18:30:19] 6513x127 matrix with 143286 entries loaded from D:\\Users\\mayn\\PycharmProjects\\untitled1\\XGBoostStudy\\agaricus.txt.train\n",
      "[18:30:19] 1611x127 matrix with 35442 entries loaded from D:\\Users\\mayn\\PycharmProjects\\untitled1\\XGBoostStudy\\agaricus.txt.test\n"
     ],
     "output_type": "stream"
    }
   ],
   "source": [
    "# 数据读取\n",
    "xgb_train = xgb.DMatrix(\"D:\\\\Users\\\\mayn\\\\PycharmProjects\\\\untitled1\\\\XGBoostStudy\\\\agaricus.txt.train\")\n",
    "xgb_test = xgb.DMatrix(\"D:\\\\Users\\\\mayn\\\\PycharmProjects\\\\untitled1\\\\XGBoostStudy\\\\agaricus.txt.test\")"
   ],
   "metadata": {
    "collapsed": false,
    "pycharm": {
     "name": "#%%\n",
     "is_executing": false
    }
   }
  },
  {
   "cell_type": "code",
   "execution_count": 15,
   "outputs": [
    {
     "name": "stdout",
     "text": [
      "[0]\ttrain-error:0.01443\ttest-error:0.01614\n",
      "[1]\ttrain-error:0.01443\ttest-error:0.01614\n",
      "[2]\ttrain-error:0.01443\ttest-error:0.01614\n",
      "[3]\ttrain-error:0.00860\ttest-error:0.00993\n",
      "[4]\ttrain-error:0.00123\ttest-error:0.00000\n"
     ],
     "output_type": "stream"
    }
   ],
   "source": [
    "# 定义模型训练参数\n",
    "params = {\n",
    "    \"objective\": \"binary:logistic\",\n",
    "    \"booster\": \"gbtree\",\n",
    "    \"max_depth\": 3\n",
    "}\n",
    "# 训练轮数\n",
    "num_round = 5\n",
    "# 训练过程中实时输出评估结果\n",
    "watchlist = [(xgb_train,\"train\"),(xgb_test, \"test\")]\n",
    "# 模型训练\n",
    "model = xgb.train(params, xgb_train, num_round, watchlist)"
   ],
   "metadata": {
    "collapsed": false,
    "pycharm": {
     "name": "#%%\n",
     "is_executing": false
    }
   }
  },
  {
   "cell_type": "code",
   "execution_count": 16,
   "outputs": [
    {
     "data": {
      "text/plain": "array([0.10455427, 0.8036663 , 0.10455427, ..., 0.89609396, 0.10285233,\n       0.89609396], dtype=float32)"
     },
     "metadata": {},
     "output_type": "execute_result",
     "execution_count": 16
    }
   ],
   "source": [
    "# 预测结果 这里输出的数据是指该样本有毒的概率\n",
    "preds = model.predict(xgb_test)\n",
    "preds"
   ],
   "metadata": {
    "collapsed": false,
    "pycharm": {
     "name": "#%%\n",
     "is_executing": false
    }
   }
  },
  {
   "cell_type": "code",
   "execution_count": null,
   "outputs": [],
   "source": [
    "\n"
   ],
   "metadata": {
    "collapsed": false,
    "pycharm": {
     "name": "#%%\n"
    }
   }
  }
 ],
 "metadata": {
  "kernelspec": {
   "display_name": "PyCharm (untitled1)",
   "language": "python",
   "name": "pycharm-1d22e0ec"
  },
  "language_info": {
   "codemirror_mode": {
    "name": "ipython",
    "version": 2
   },
   "file_extension": ".py",
   "mimetype": "text/x-python",
   "name": "python",
   "nbconvert_exporter": "python",
   "pygments_lexer": "ipython2",
   "version": "2.7.6"
  },
  "pycharm": {
   "stem_cell": {
    "cell_type": "raw",
    "source": [],
    "metadata": {
     "collapsed": false
    }
   }
  }
 },
 "nbformat": 4,
 "nbformat_minor": 0
}