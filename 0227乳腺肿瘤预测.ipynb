{
 "cells": [
  {
   "cell_type": "code",
   "execution_count": 1,
   "metadata": {
    "collapsed": true,
    "pycharm": {
     "is_executing": false
    }
   },
   "outputs": [
    {
     "data": {
      "text/plain": "'\\n本节将使用逻辑回归预测乳腺肿瘤是良性的还是恶性的。\\n示例采用的数据集为威斯康星诊断乳腺癌数据集，\\n它通过细胞核的相关特征来预测乳腺肿瘤为良性/恶性，这是一个非常著名的二分类数据集。\\n该数据集包含569个样本，其中有212个恶性肿瘤样本，357个良性肿瘤样本。共有32个字段，\\n字段1为ID，字段2为label，其他30个字段为细胞核的相关特征，例如\\n\\n    ·半径（从中心到周边点的平均距离）\\n    ·纹理（灰度值的标准偏差）\\n    ·周长·面积·光滑度（半径长度的局部变化）\\n    ·紧凑性（周长的二次方/面积的负一次方）\\n    ·凹度（轮廓的凹陷程度）\\n    ·凹点（轮廓中凹部的数量）\\n    ·对称·分形维数\\n'"
     },
     "metadata": {},
     "output_type": "execute_result",
     "execution_count": 1
    }
   ],
   "source": [
    "\"\"\"\n",
    "本节将使用逻辑回归预测乳腺肿瘤是良性的还是恶性的。\n",
    "示例采用的数据集为威斯康星诊断乳腺癌数据集，\n",
    "它通过细胞核的相关特征来预测乳腺肿瘤为良性/恶性，这是一个非常著名的二分类数据集。\n",
    "该数据集包含569个样本，其中有212个恶性肿瘤样本，357个良性肿瘤样本。共有32个字段，\n",
    "字段1为ID，字段2为label，其他30个字段为细胞核的相关特征，例如\n",
    "\n",
    "    ·半径（从中心到周边点的平均距离）\n",
    "    ·纹理（灰度值的标准偏差）\n",
    "    ·周长·面积·光滑度（半径长度的局部变化）\n",
    "    ·紧凑性（周长的二次方/面积的负一次方）\n",
    "    ·凹度（轮廓的凹陷程度）\n",
    "    ·凹点（轮廓中凹部的数量）\n",
    "    ·对称·分形维数\n",
    "\"\"\""
   ]
  },
  {
   "cell_type": "code",
   "execution_count": 12,
   "outputs": [],
   "source": [
    "# 对于每张图像，分别计算以上10个特征的平均值、标准误差和最差/最大（最大的3个值的平均）值，由此生成30个特征。\n",
    "# 例如，字段3表示平均半径，字段13表示半径的标准误差，字段23表示最差半径。所有特征都保留4位有效数字。\n",
    "from sklearn import datasets\n",
    "\n",
    "# 加载乳腺癌数据\n",
    "cancer = datasets.load_breast_cancer()\n",
    "X = cancer.data\n",
    "y = cancer.target"
   ],
   "metadata": {
    "collapsed": false,
    "pycharm": {
     "name": "#%%\n",
     "is_executing": false
    }
   }
  },
  {
   "cell_type": "code",
   "execution_count": 21,
   "outputs": [],
   "source": [
    "from sklearn.model_selection import train_test_split\n",
    "# test_size：将数据按4：1划分训练集和测试集\n",
    "# random_state： 随机种子\n",
    "X_train, X_test, y_train, y_test = train_test_split(X, y, test_size=1/5, random_state=8)"
   ],
   "metadata": {
    "collapsed": false,
    "pycharm": {
     "name": "#%%\n",
     "is_executing": false
    }
   }
  },
  {
   "cell_type": "code",
   "execution_count": 22,
   "outputs": [
    {
     "name": "stderr",
     "text": [
      "C:\\ProgramData\\Anaconda3\\lib\\site-packages\\sklearn\\linear_model\\logistic.py:432: FutureWarning: Default solver will be changed to 'lbfgs' in 0.22. Specify a solver to silence this warning.\n",
      "  FutureWarning)\n"
     ],
     "output_type": "stream"
    },
    {
     "data": {
      "text/plain": "'              precision    recall  f1-score   support\\n\\n      Benign       0.94      0.96      0.95        46\\n   Malignant       0.97      0.96      0.96        68\\n\\n    accuracy                           0.96       114\\n   macro avg       0.95      0.96      0.95       114\\nweighted avg       0.96      0.96      0.96       114\\n'"
     },
     "metadata": {},
     "output_type": "execute_result",
     "execution_count": 22
    }
   ],
   "source": [
    "# 逻辑回归的API\n",
    "from sklearn.linear_model import LogisticRegression\n",
    "from sklearn.metrics import classification_report\n",
    "# 逻辑回归\n",
    "lr = LogisticRegression()\n",
    "# 训练模型\n",
    "lr.fit(X_train, y_train)\n",
    "# 预测\n",
    "y_pred = lr.predict(X_test)\n",
    "# 报告()混淆矩阵\n",
    "report = classification_report(y_test, y_pred, target_names=['Benign', 'Malignant'])\n",
    "# 其中，列表的左边一列为分类的标签名，avg/total为各列的均值。support表示该类别样本出现的次数。\n",
    "report"
   ],
   "metadata": {
    "collapsed": false,
    "pycharm": {
     "name": "#%%\n",
     "is_executing": false
    }
   }
  },
  {
   "cell_type": "code",
   "execution_count": 23,
   "outputs": [
    {
     "data": {
      "text/plain": "array([1, 1, 1, 1, 1, 1, 0, 1, 1, 1, 1, 1, 1, 0, 0, 1, 1, 0, 1, 0, 1, 0,\n       0, 1, 1, 0, 0, 0, 1, 1, 1, 1, 0, 0, 0, 1, 0, 0, 1, 0, 1, 0, 0, 1,\n       1, 1, 1, 0, 0, 0, 0, 0, 1, 1, 1, 0, 0, 1, 1, 1, 0, 0, 1, 1, 1, 1,\n       1, 0, 1, 1, 1, 1, 0, 1, 0, 1, 0, 1, 1, 1, 0, 0, 1, 0, 1, 1, 0, 0,\n       1, 0, 1, 1, 0, 1, 1, 0, 1, 1, 1, 0, 1, 0, 1, 0, 1, 1, 1, 0, 1, 1,\n       0, 1, 1, 1])"
     },
     "metadata": {},
     "output_type": "execute_result",
     "execution_count": 23
    }
   ],
   "source": [
    "# 利用xgboost来进行逻辑回归分析代码如下\n",
    "import pandas as pd\n",
    "import numpy as np\n",
    "import xgboost as xgb\n",
    "\n",
    "# 将数据转化为DMatrix格式\n",
    "train_xgb = xgb.DMatrix(X_train, y_train)\n",
    "# 定义模型训练参数\n",
    "params = {\n",
    "    \"objective\":'reg:logistic',\n",
    "    \"booster\":'gblinear'\n",
    "}\n",
    "# 训练模型\n",
    "model = xgb.train(dtrain=train_xgb, params=params)\n",
    "y_pred = model.predict(xgb.DMatrix(X_test))\n",
    "# XGBoost的预测结果是概率\n",
    "# 下列代码将预测概率大于0.5的样本的预测分类标记为1，否则标记为0。\n",
    "ypred_bsd = np.array(y_pred)\n",
    "ypred_bsd = ypred_bsd > 0.5\n",
    "ypred_bsd = ypred_bsd.astype(int)\n",
    "ypred_bsd"
   ],
   "metadata": {
    "collapsed": false,
    "pycharm": {
     "name": "#%%\n",
     "is_executing": false
    }
   }
  },
  {
   "cell_type": "code",
   "execution_count": 24,
   "outputs": [
    {
     "name": "stdout",
     "text": [
      "0.8947368421052632\n"
     ],
     "output_type": "stream"
    }
   ],
   "source": [
    "def check_predict_percent(a, b):\n",
    "    right_num = 0\n",
    "    for i in range(len(a)):\n",
    "        if a[i] == b[i]:\n",
    "            right_num += 1\n",
    "    return repr(right_num/len(a))\n",
    "\n",
    "print(check_predict_percent(ypred_bsd, y_test))"
   ],
   "metadata": {
    "collapsed": false,
    "pycharm": {
     "name": "#%%\n",
     "is_executing": false
    }
   }
  },
  {
   "cell_type": "code",
   "execution_count": null,
   "outputs": [],
   "source": [
    "\n"
   ],
   "metadata": {
    "collapsed": false,
    "pycharm": {
     "name": "#%%\n"
    }
   }
  }
 ],
 "metadata": {
  "kernelspec": {
   "display_name": "Python 3",
   "language": "python",
   "name": "python3"
  },
  "language_info": {
   "codemirror_mode": {
    "name": "ipython",
    "version": 2
   },
   "file_extension": ".py",
   "mimetype": "text/x-python",
   "name": "python",
   "nbconvert_exporter": "python",
   "pygments_lexer": "ipython2",
   "version": "2.7.6"
  },
  "pycharm": {
   "stem_cell": {
    "cell_type": "raw",
    "source": [],
    "metadata": {
     "collapsed": false
    }
   }
  }
 },
 "nbformat": 4,
 "nbformat_minor": 0
}