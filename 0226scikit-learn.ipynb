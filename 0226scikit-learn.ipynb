{
 "cells": [
  {
   "cell_type": "code",
   "execution_count": 2,
   "metadata": {
    "collapsed": true,
    "pycharm": {
     "is_executing": false
    }
   },
   "outputs": [
    {
     "data": {
      "text/plain": "'\\nscikit-learn是一个包含大量经典机器学习模型的开源工具库\\n用Python实现，包括数据预处理、分类、回归、降维、模型选择等常用的机器学习算法\\n可见scikit-learn是一个功能十分强大的机器学习工具包\\nXGBoost配合scikit-learn使用，可以说是如虎添翼\\n因scikit-learn中的算法较多，在此不做一一介绍，后续示例用到时再进行针对性的讲解\\n关于scikit-learn的资料非常多，市面上也有很多介绍scikit-learn的书籍，想要深入了解的读者可以自行选择相关资料进行学习。\\n'"
     },
     "metadata": {},
     "output_type": "execute_result",
     "execution_count": 2
    }
   ],
   "source": [
    "\"\"\"\n",
    "scikit-learn是一个包含大量经典机器学习模型的开源工具库\n",
    "用Python实现，包括数据预处理、分类、回归、降维、模型选择等常用的机器学习算法\n",
    "可见scikit-learn是一个功能十分强大的机器学习工具包\n",
    "XGBoost配合scikit-learn使用，可以说是如虎添翼\n",
    "因scikit-learn中的算法较多，在此不做一一介绍，后续示例用到时再进行针对性的讲解\n",
    "关于scikit-learn的资料非常多，市面上也有很多介绍scikit-learn的书籍，想要深入了解的读者可以自行选择相关资料进行学习。\n",
    "\"\"\""
   ]
  },
  {
   "cell_type": "code",
   "execution_count": null,
   "outputs": [],
   "source": [],
   "metadata": {
    "collapsed": false,
    "pycharm": {
     "name": "#%%\n"
    }
   }
  }
 ],
 "metadata": {
  "kernelspec": {
   "display_name": "PyCharm (untitled1)",
   "language": "python",
   "name": "pycharm-1d22e0ec"
  },
  "language_info": {
   "codemirror_mode": {
    "name": "ipython",
    "version": 2
   },
   "file_extension": ".py",
   "mimetype": "text/x-python",
   "name": "python",
   "nbconvert_exporter": "python",
   "pygments_lexer": "ipython2",
   "version": "2.7.6"
  },
  "pycharm": {
   "stem_cell": {
    "cell_type": "raw",
    "source": [],
    "metadata": {
     "collapsed": false
    }
   }
  }
 },
 "nbformat": 4,
 "nbformat_minor": 0
}