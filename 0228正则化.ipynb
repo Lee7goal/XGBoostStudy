{
 "cells": [
  {
   "cell_type": "code",
   "execution_count": 1,
   "metadata": {
    "collapsed": true,
    "pycharm": {
     "is_executing": false
    }
   },
   "outputs": [
    {
     "data": {
      "text/plain": "'\\n一般来讲，好的机器学习监督算法需满足两方面的要求：\\n\\n    既能很好地拟合训练数据，又具有较好的泛化能力，\\n    即模型要避免欠拟合和过拟合问题。\\n    前面讨论的模型训练（如梯度下降）均是围绕解决模型的欠拟合问题展开的，\\n    通过最小化损失函数来减小模型预测值与真实值之间的误差。\\n    因为数据集中总会有一些噪声，模型在拟合数据时可能会把噪声也拟合进来，导致模型过拟合。\\n    本节讨论的正则化，则是用于避免模型在学习过程中产生过拟合的问题，从而提高模型的泛化能力。\\n    \\n'"
     },
     "metadata": {},
     "output_type": "execute_result",
     "execution_count": 1
    }
   ],
   "source": [
    "# 3.5正则化\n",
    "\"\"\"\n",
    "一般来讲，好的机器学习监督算法需满足两方面的要求：\n",
    "\n",
    "    既能很好地拟合训练数据，又具有较好的泛化能力，\n",
    "    即模型要避免欠拟合和过拟合问题。\n",
    "    前面讨论的模型训练（如梯度下降）均是围绕解决模型的欠拟合问题展开的，\n",
    "    通过最小化损失函数来减小模型预测值与真实值之间的误差。\n",
    "    因为数据集中总会有一些噪声，模型在拟合数据时可能会把噪声也拟合进来，导致模型过拟合。\n",
    "    本节讨论的正则化，则是用于避免模型在学习过程中产生过拟合的问题，从而提高模型的泛化能力。\n",
    "    \n",
    "\"\"\""
   ]
  },
  {
   "cell_type": "code",
   "execution_count": null,
   "outputs": [],
   "source": [
    "\n"
   ],
   "metadata": {
    "collapsed": false,
    "pycharm": {
     "name": "#%%\n"
    }
   }
  }
 ],
 "metadata": {
  "kernelspec": {
   "display_name": "Python 3",
   "language": "python",
   "name": "python3"
  },
  "language_info": {
   "codemirror_mode": {
    "name": "ipython",
    "version": 2
   },
   "file_extension": ".py",
   "mimetype": "text/x-python",
   "name": "python",
   "nbconvert_exporter": "python",
   "pygments_lexer": "ipython2",
   "version": "2.7.6"
  },
  "pycharm": {
   "stem_cell": {
    "cell_type": "raw",
    "source": [],
    "metadata": {
     "collapsed": false
    }
   }
  }
 },
 "nbformat": 4,
 "nbformat_minor": 0
}