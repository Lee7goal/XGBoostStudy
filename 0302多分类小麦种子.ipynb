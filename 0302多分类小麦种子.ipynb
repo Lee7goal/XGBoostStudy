{
 "cells": [
  {
   "cell_type": "code",
   "execution_count": 36,
   "metadata": {
    "collapsed": true,
    "pycharm": {
     "is_executing": false
    }
   },
   "outputs": [],
   "source": [
    "import pandas as pd\n",
    "import numpy as np\n",
    "import xgboost as xgb"
   ]
  },
  {
   "cell_type": "code",
   "execution_count": 37,
   "outputs": [],
   "source": [
    "# 使label取值在0到num_class -1 之间的范围内\n",
    "data = pd.read_csv('.\\\\data\\\\seeds_dataset.txt', header=None, sep='\\s+', converters={7: lambda x:int(x) - 1})"
   ],
   "metadata": {
    "collapsed": false,
    "pycharm": {
     "name": "#%%\n",
     "is_executing": false
    }
   }
  },
  {
   "cell_type": "code",
   "execution_count": 38,
   "outputs": [],
   "source": [
    "# 将最后一列字段名设置为label\n",
    "data.rename(columns={7:'label'}, inplace=True)"
   ],
   "metadata": {
    "collapsed": false,
    "pycharm": {
     "name": "#%%\n",
     "is_executing": false
    }
   }
  },
  {
   "cell_type": "code",
   "execution_count": 39,
   "outputs": [
    {
     "data": {
      "text/plain": "       0      1       2      3      4      5      6  label\n0  15.26  14.84  0.8710  5.763  3.312  2.221  5.220      0\n1  14.88  14.57  0.8811  5.554  3.333  1.018  4.956      0\n2  14.29  14.09  0.9050  5.291  3.337  2.699  4.825      0\n3  13.84  13.94  0.8955  5.324  3.379  2.259  4.805      0\n4  16.14  14.99  0.9034  5.658  3.562  1.355  5.175      0\n5  14.38  14.21  0.8951  5.386  3.312  2.462  4.956      0\n6  14.69  14.49  0.8799  5.563  3.259  3.586  5.219      0\n7  14.11  14.10  0.8911  5.420  3.302  2.700  5.000      0\n8  16.63  15.46  0.8747  6.053  3.465  2.040  5.877      0\n9  16.44  15.25  0.8880  5.884  3.505  1.969  5.533      0",
      "text/html": "<div>\n<style scoped>\n    .dataframe tbody tr th:only-of-type {\n        vertical-align: middle;\n    }\n\n    .dataframe tbody tr th {\n        vertical-align: top;\n    }\n\n    .dataframe thead th {\n        text-align: right;\n    }\n</style>\n<table border=\"1\" class=\"dataframe\">\n  <thead>\n    <tr style=\"text-align: right;\">\n      <th></th>\n      <th>0</th>\n      <th>1</th>\n      <th>2</th>\n      <th>3</th>\n      <th>4</th>\n      <th>5</th>\n      <th>6</th>\n      <th>label</th>\n    </tr>\n  </thead>\n  <tbody>\n    <tr>\n      <td>0</td>\n      <td>15.26</td>\n      <td>14.84</td>\n      <td>0.8710</td>\n      <td>5.763</td>\n      <td>3.312</td>\n      <td>2.221</td>\n      <td>5.220</td>\n      <td>0</td>\n    </tr>\n    <tr>\n      <td>1</td>\n      <td>14.88</td>\n      <td>14.57</td>\n      <td>0.8811</td>\n      <td>5.554</td>\n      <td>3.333</td>\n      <td>1.018</td>\n      <td>4.956</td>\n      <td>0</td>\n    </tr>\n    <tr>\n      <td>2</td>\n      <td>14.29</td>\n      <td>14.09</td>\n      <td>0.9050</td>\n      <td>5.291</td>\n      <td>3.337</td>\n      <td>2.699</td>\n      <td>4.825</td>\n      <td>0</td>\n    </tr>\n    <tr>\n      <td>3</td>\n      <td>13.84</td>\n      <td>13.94</td>\n      <td>0.8955</td>\n      <td>5.324</td>\n      <td>3.379</td>\n      <td>2.259</td>\n      <td>4.805</td>\n      <td>0</td>\n    </tr>\n    <tr>\n      <td>4</td>\n      <td>16.14</td>\n      <td>14.99</td>\n      <td>0.9034</td>\n      <td>5.658</td>\n      <td>3.562</td>\n      <td>1.355</td>\n      <td>5.175</td>\n      <td>0</td>\n    </tr>\n    <tr>\n      <td>5</td>\n      <td>14.38</td>\n      <td>14.21</td>\n      <td>0.8951</td>\n      <td>5.386</td>\n      <td>3.312</td>\n      <td>2.462</td>\n      <td>4.956</td>\n      <td>0</td>\n    </tr>\n    <tr>\n      <td>6</td>\n      <td>14.69</td>\n      <td>14.49</td>\n      <td>0.8799</td>\n      <td>5.563</td>\n      <td>3.259</td>\n      <td>3.586</td>\n      <td>5.219</td>\n      <td>0</td>\n    </tr>\n    <tr>\n      <td>7</td>\n      <td>14.11</td>\n      <td>14.10</td>\n      <td>0.8911</td>\n      <td>5.420</td>\n      <td>3.302</td>\n      <td>2.700</td>\n      <td>5.000</td>\n      <td>0</td>\n    </tr>\n    <tr>\n      <td>8</td>\n      <td>16.63</td>\n      <td>15.46</td>\n      <td>0.8747</td>\n      <td>6.053</td>\n      <td>3.465</td>\n      <td>2.040</td>\n      <td>5.877</td>\n      <td>0</td>\n    </tr>\n    <tr>\n      <td>9</td>\n      <td>16.44</td>\n      <td>15.25</td>\n      <td>0.8880</td>\n      <td>5.884</td>\n      <td>3.505</td>\n      <td>1.969</td>\n      <td>5.533</td>\n      <td>0</td>\n    </tr>\n  </tbody>\n</table>\n</div>"
     },
     "metadata": {},
     "output_type": "execute_result",
     "execution_count": 39
    }
   ],
   "source": [
    "data.head(10)"
   ],
   "metadata": {
    "collapsed": false,
    "pycharm": {
     "name": "#%%\n",
     "is_executing": false
    }
   }
  },
  {
   "cell_type": "code",
   "execution_count": 40,
   "outputs": [],
   "source": [
    "# 生成一个随机数并选择小于0.8的数据\n",
    "mask = np.random.rand(len(data)) < 0.8"
   ],
   "metadata": {
    "collapsed": false,
    "pycharm": {
     "name": "#%%\n",
     "is_executing": false
    }
   }
  },
  {
   "cell_type": "code",
   "execution_count": 41,
   "outputs": [],
   "source": [
    "train = data[mask]\n",
    "test = data[~mask]"
   ],
   "metadata": {
    "collapsed": false,
    "pycharm": {
     "name": "#%%\n",
     "is_executing": false
    }
   }
  },
  {
   "cell_type": "code",
   "execution_count": 42,
   "outputs": [],
   "source": [
    "# 生成DMatrix\n",
    "xgb_train = xgb.DMatrix(train.iloc[:,:6], label=train.label)\n",
    "xgb_test = xgb.DMatrix(test.iloc[:,:6], label=test.label)"
   ],
   "metadata": {
    "collapsed": false,
    "pycharm": {
     "name": "#%%\n",
     "is_executing": false
    }
   }
  },
  {
   "cell_type": "code",
   "execution_count": 43,
   "outputs": [
    {
     "name": "stdout",
     "text": [
      "[0]\ttrain-merror:0.02500\ttest-merror:0.16000\n",
      "[1]\ttrain-merror:0.01250\ttest-merror:0.12000\n",
      "[2]\ttrain-merror:0.01250\ttest-merror:0.12000\n",
      "[3]\ttrain-merror:0.01250\ttest-merror:0.12000\n",
      "[4]\ttrain-merror:0.00625\ttest-merror:0.12000\n",
      "[5]\ttrain-merror:0.00625\ttest-merror:0.12000\n",
      "[6]\ttrain-merror:0.00625\ttest-merror:0.12000\n",
      "[7]\ttrain-merror:0.00000\ttest-merror:0.12000\n",
      "[8]\ttrain-merror:0.00000\ttest-merror:0.12000\n",
      "[9]\ttrain-merror:0.00000\ttest-merror:0.12000\n",
      "[10]\ttrain-merror:0.00000\ttest-merror:0.12000\n",
      "[11]\ttrain-merror:0.00000\ttest-merror:0.12000\n",
      "[12]\ttrain-merror:0.00000\ttest-merror:0.12000\n",
      "[13]\ttrain-merror:0.00000\ttest-merror:0.12000\n",
      "[14]\ttrain-merror:0.00000\ttest-merror:0.12000\n",
      "[15]\ttrain-merror:0.00000\ttest-merror:0.12000\n",
      "[16]\ttrain-merror:0.00000\ttest-merror:0.12000\n",
      "[17]\ttrain-merror:0.00000\ttest-merror:0.12000\n",
      "[18]\ttrain-merror:0.00000\ttest-merror:0.12000\n",
      "[19]\ttrain-merror:0.00000\ttest-merror:0.12000\n",
      "[20]\ttrain-merror:0.00000\ttest-merror:0.12000\n",
      "[21]\ttrain-merror:0.00000\ttest-merror:0.12000\n",
      "[22]\ttrain-merror:0.00000\ttest-merror:0.12000\n",
      "[23]\ttrain-merror:0.00000\ttest-merror:0.12000\n",
      "[24]\ttrain-merror:0.00000\ttest-merror:0.12000\n",
      "[25]\ttrain-merror:0.00000\ttest-merror:0.12000\n",
      "[26]\ttrain-merror:0.00000\ttest-merror:0.12000\n",
      "[27]\ttrain-merror:0.00000\ttest-merror:0.12000\n",
      "[28]\ttrain-merror:0.00000\ttest-merror:0.12000\n",
      "[29]\ttrain-merror:0.00000\ttest-merror:0.12000\n",
      "[30]\ttrain-merror:0.00000\ttest-merror:0.12000\n",
      "[31]\ttrain-merror:0.00000\ttest-merror:0.12000\n",
      "[32]\ttrain-merror:0.00000\ttest-merror:0.12000\n",
      "[33]\ttrain-merror:0.00000\ttest-merror:0.12000\n",
      "[34]\ttrain-merror:0.00000\ttest-merror:0.12000\n",
      "[35]\ttrain-merror:0.00000\ttest-merror:0.12000\n",
      "[36]\ttrain-merror:0.00000\ttest-merror:0.12000\n",
      "[37]\ttrain-merror:0.00000\ttest-merror:0.12000\n",
      "[38]\ttrain-merror:0.00000\ttest-merror:0.12000\n",
      "[39]\ttrain-merror:0.00000\ttest-merror:0.12000\n",
      "[40]\ttrain-merror:0.00000\ttest-merror:0.12000\n",
      "[41]\ttrain-merror:0.00000\ttest-merror:0.12000\n",
      "[42]\ttrain-merror:0.00000\ttest-merror:0.12000\n",
      "[43]\ttrain-merror:0.00000\ttest-merror:0.12000\n",
      "[44]\ttrain-merror:0.00000\ttest-merror:0.12000\n",
      "[45]\ttrain-merror:0.00000\ttest-merror:0.12000\n",
      "[46]\ttrain-merror:0.00000\ttest-merror:0.12000\n",
      "[47]\ttrain-merror:0.00000\ttest-merror:0.12000\n",
      "[48]\ttrain-merror:0.00000\ttest-merror:0.12000\n",
      "[49]\ttrain-merror:0.00000\ttest-merror:0.12000\n",
      "[50]\ttrain-merror:0.00000\ttest-merror:0.12000\n",
      "[51]\ttrain-merror:0.00000\ttest-merror:0.12000\n",
      "[52]\ttrain-merror:0.00000\ttest-merror:0.12000\n",
      "[53]\ttrain-merror:0.00000\ttest-merror:0.12000\n",
      "[54]\ttrain-merror:0.00000\ttest-merror:0.12000\n",
      "[55]\ttrain-merror:0.00000\ttest-merror:0.12000\n",
      "[56]\ttrain-merror:0.00000\ttest-merror:0.12000\n",
      "[57]\ttrain-merror:0.00000\ttest-merror:0.12000\n",
      "[58]\ttrain-merror:0.00000\ttest-merror:0.12000\n",
      "[59]\ttrain-merror:0.00000\ttest-merror:0.12000\n"
     ],
     "output_type": "stream"
    }
   ],
   "source": [
    "# 通过softmax进行多分类\n",
    "params = {\n",
    "    'objective':'multi:softmax',\n",
    "    'eta':0.1,\n",
    "    'max_depth':5,\n",
    "    'num_class':3\n",
    "}\n",
    "watch_list = [(xgb_train,'train'),(xgb_test, 'test')]\n",
    "num_round = 60\n",
    "bst = xgb.train(params, xgb_train, num_round, watch_list)"
   ],
   "metadata": {
    "collapsed": false,
    "pycharm": {
     "name": "#%%\n",
     "is_executing": false
    }
   }
  },
  {
   "cell_type": "code",
   "execution_count": 44,
   "outputs": [
    {
     "name": "stdout",
     "text": [
      "测试集错误率(softmax):0.12\n"
     ],
     "output_type": "stream"
    }
   ],
   "source": [
    "# 模型预测\n",
    "pred = bst.predict(xgb_test)\n",
    "error_rate = np.sum(pred != test.label)/test.shape[0]\n",
    "print('测试集错误率(softmax):{}'.format(error_rate))"
   ],
   "metadata": {
    "collapsed": false,
    "pycharm": {
     "name": "#%%\n",
     "is_executing": false
    }
   }
  },
  {
   "cell_type": "code",
   "execution_count": 45,
   "outputs": [],
   "source": [
    "# 重新训练模型，输出概率值\n",
    "params['objective'] = 'multi:softprob'"
   ],
   "metadata": {
    "collapsed": false,
    "pycharm": {
     "name": "#%%\n",
     "is_executing": false
    }
   }
  },
  {
   "cell_type": "code",
   "execution_count": 46,
   "outputs": [
    {
     "name": "stdout",
     "text": [
      "[0]\ttrain-merror:0.02500\ttest-merror:0.16000\n",
      "[1]\ttrain-merror:0.01250\ttest-merror:0.12000\n",
      "[2]\ttrain-merror:0.01250\ttest-merror:0.12000\n",
      "[3]\ttrain-merror:0.01250\ttest-merror:0.12000\n",
      "[4]\ttrain-merror:0.00625\ttest-merror:0.12000\n",
      "[5]\ttrain-merror:0.00625\ttest-merror:0.12000\n",
      "[6]\ttrain-merror:0.00625\ttest-merror:0.12000\n",
      "[7]\ttrain-merror:0.00000\ttest-merror:0.12000\n",
      "[8]\ttrain-merror:0.00000\ttest-merror:0.12000\n",
      "[9]\ttrain-merror:0.00000\ttest-merror:0.12000\n",
      "[10]\ttrain-merror:0.00000\ttest-merror:0.12000\n",
      "[11]\ttrain-merror:0.00000\ttest-merror:0.12000\n",
      "[12]\ttrain-merror:0.00000\ttest-merror:0.12000\n",
      "[13]\ttrain-merror:0.00000\ttest-merror:0.12000\n",
      "[14]\ttrain-merror:0.00000\ttest-merror:0.12000\n",
      "[15]\ttrain-merror:0.00000\ttest-merror:0.12000\n",
      "[16]\ttrain-merror:0.00000\ttest-merror:0.12000\n",
      "[17]\ttrain-merror:0.00000\ttest-merror:0.12000\n",
      "[18]\ttrain-merror:0.00000\ttest-merror:0.12000\n",
      "[19]\ttrain-merror:0.00000\ttest-merror:0.12000\n",
      "[20]\ttrain-merror:0.00000\ttest-merror:0.12000\n",
      "[21]\ttrain-merror:0.00000\ttest-merror:0.12000\n",
      "[22]\ttrain-merror:0.00000\ttest-merror:0.12000\n",
      "[23]\ttrain-merror:0.00000\ttest-merror:0.12000\n",
      "[24]\ttrain-merror:0.00000\ttest-merror:0.12000\n",
      "[25]\ttrain-merror:0.00000\ttest-merror:0.12000\n",
      "[26]\ttrain-merror:0.00000\ttest-merror:0.12000\n",
      "[27]\ttrain-merror:0.00000\ttest-merror:0.12000\n",
      "[28]\ttrain-merror:0.00000\ttest-merror:0.12000\n",
      "[29]\ttrain-merror:0.00000\ttest-merror:0.12000\n",
      "[30]\ttrain-merror:0.00000\ttest-merror:0.12000\n",
      "[31]\ttrain-merror:0.00000\ttest-merror:0.12000\n",
      "[32]\ttrain-merror:0.00000\ttest-merror:0.12000\n",
      "[33]\ttrain-merror:0.00000\ttest-merror:0.12000\n",
      "[34]\ttrain-merror:0.00000\ttest-merror:0.12000\n",
      "[35]\ttrain-merror:0.00000\ttest-merror:0.12000\n",
      "[36]\ttrain-merror:0.00000\ttest-merror:0.12000\n",
      "[37]\ttrain-merror:0.00000\ttest-merror:0.12000\n",
      "[38]\ttrain-merror:0.00000\ttest-merror:0.12000\n",
      "[39]\ttrain-merror:0.00000\ttest-merror:0.12000\n",
      "[40]\ttrain-merror:0.00000\ttest-merror:0.12000\n",
      "[41]\ttrain-merror:0.00000\ttest-merror:0.12000\n",
      "[42]\ttrain-merror:0.00000\ttest-merror:0.12000\n",
      "[43]\ttrain-merror:0.00000\ttest-merror:0.12000\n",
      "[44]\ttrain-merror:0.00000\ttest-merror:0.12000\n",
      "[45]\ttrain-merror:0.00000\ttest-merror:0.12000\n",
      "[46]\ttrain-merror:0.00000\ttest-merror:0.12000\n",
      "[47]\ttrain-merror:0.00000\ttest-merror:0.12000\n",
      "[48]\ttrain-merror:0.00000\ttest-merror:0.12000\n",
      "[49]\ttrain-merror:0.00000\ttest-merror:0.12000\n",
      "[50]\ttrain-merror:0.00000\ttest-merror:0.12000\n",
      "[51]\ttrain-merror:0.00000\ttest-merror:0.12000\n",
      "[52]\ttrain-merror:0.00000\ttest-merror:0.12000\n",
      "[53]\ttrain-merror:0.00000\ttest-merror:0.12000\n",
      "[54]\ttrain-merror:0.00000\ttest-merror:0.12000\n",
      "[55]\ttrain-merror:0.00000\ttest-merror:0.12000\n",
      "[56]\ttrain-merror:0.00000\ttest-merror:0.12000\n",
      "[57]\ttrain-merror:0.00000\ttest-merror:0.12000\n",
      "[58]\ttrain-merror:0.00000\ttest-merror:0.12000\n",
      "[59]\ttrain-merror:0.00000\ttest-merror:0.12000\n"
     ],
     "output_type": "stream"
    }
   ],
   "source": [
    "bst = xgb.train(params,xgb_train,num_round,watch_list)"
   ],
   "metadata": {
    "collapsed": false,
    "pycharm": {
     "name": "#%%\n",
     "is_executing": false
    }
   }
  },
  {
   "cell_type": "code",
   "execution_count": 47,
   "outputs": [
    {
     "name": "stdout",
     "text": [
      "[[0.99314183 0.00332915 0.00352908]\n",
      " [0.991872   0.00394551 0.00418246]\n",
      " [0.8182265  0.17272165 0.0090518 ]\n",
      " [0.99264824 0.00356872 0.00378304]\n",
      " [0.9830935  0.00857816 0.0083283 ]\n",
      " [0.9930722  0.00336289 0.00356485]\n",
      " [0.9532523  0.03885902 0.00788868]\n",
      " [0.87496346 0.11201561 0.01302097]\n",
      " [0.9918902  0.0039367  0.00417312]\n",
      " [0.9920202  0.00387362 0.00410625]\n",
      " [0.9920202  0.00387362 0.00410625]\n",
      " [0.8879479  0.00808774 0.10396435]\n",
      " [0.01301679 0.9821827  0.00480055]\n",
      " [0.9796275  0.01671542 0.00365707]\n",
      " [0.99173963 0.00400976 0.00425056]\n",
      " [0.10333674 0.8865497  0.01011356]\n",
      " [0.9920202  0.00387362 0.00410625]\n",
      " [0.01119421 0.0030668  0.98573893]\n",
      " [0.00651125 0.98991466 0.00357416]\n",
      " [0.00588603 0.9905376  0.0035764 ]\n",
      " [0.00672877 0.9901821  0.00308914]\n",
      " [0.04487158 0.9448663  0.01026213]\n",
      " [0.00539573 0.9915109  0.00309329]\n",
      " [0.04422632 0.9456591  0.01011456]\n",
      " [0.00563388 0.9912736  0.00309255]\n",
      " [0.00746105 0.9889682  0.00357074]\n",
      " [0.04487158 0.9448663  0.01026213]\n",
      " [0.00506865 0.9918371  0.00309431]\n",
      " [0.00455655 0.9923476  0.0030959 ]\n",
      " [0.00672877 0.9901821  0.00308914]\n",
      " [0.20372646 0.7745305  0.02174311]\n",
      " [0.07436704 0.91141576 0.01421719]\n",
      " [0.00506865 0.9918371  0.00309431]\n",
      " [0.00460161 0.99230266 0.00309576]\n",
      " [0.9620635  0.03276365 0.00517285]\n",
      " [0.03376169 0.9619918  0.00424647]\n",
      " [0.00396324 0.00289454 0.99314225]\n",
      " [0.81996477 0.00896116 0.17107409]\n",
      " [0.10399503 0.01359101 0.88241404]\n",
      " [0.00859983 0.00429051 0.98710966]\n",
      " [0.0066618  0.00429889 0.9890393 ]\n",
      " [0.00396324 0.00289454 0.99314225]\n",
      " [0.00912872 0.00328578 0.98758554]\n",
      " [0.88967013 0.01768422 0.09264567]\n",
      " [0.00668053 0.00288664 0.99043274]\n",
      " [0.00396324 0.00289454 0.99314225]\n",
      " [0.01688203 0.00404297 0.979075  ]\n",
      " [0.03559399 0.00433556 0.9600705 ]\n",
      " [0.01593794 0.00404685 0.9800152 ]\n",
      " [0.00668053 0.00288664 0.99043274]]\n"
     ],
     "output_type": "stream"
    }
   ],
   "source": [
    "# 模型预测\n",
    "pred_prob = bst.predict(xgb_test)\n",
    "print(pred_prob)"
   ],
   "metadata": {
    "collapsed": false,
    "pycharm": {
     "name": "#%%\n",
     "is_executing": false
    }
   }
  },
  {
   "cell_type": "code",
   "execution_count": 48,
   "outputs": [
    {
     "data": {
      "text/plain": "array([0, 0, 0, 0, 0, 0, 0, 0, 0, 0, 0, 0, 1, 0, 0, 1, 0, 2, 1, 1, 1, 1,\n       1, 1, 1, 1, 1, 1, 1, 1, 1, 1, 1, 1, 0, 1, 2, 0, 2, 2, 2, 2, 2, 0,\n       2, 2, 2, 2, 2, 2], dtype=int64)"
     },
     "metadata": {},
     "output_type": "execute_result",
     "execution_count": 48
    }
   ],
   "source": [
    "# 取向量中预测值最大的分类作为预测类别\n",
    "pred_label = np.argmax(pred_prob, axis=1)\n",
    "pred_label"
   ],
   "metadata": {
    "collapsed": false,
    "pycharm": {
     "name": "#%%\n",
     "is_executing": false
    }
   }
  },
  {
   "cell_type": "code",
   "execution_count": 49,
   "outputs": [
    {
     "name": "stdout",
     "text": [
      "测试集错误率(softprob):0.12\n"
     ],
     "output_type": "stream"
    }
   ],
   "source": [
    "# 计算测试集错误率\n",
    "error_rate = np.sum(pred_label != test.label)/test.shape[0]\n",
    "print('测试集错误率(softprob):{}'.format(error_rate))"
   ],
   "metadata": {
    "collapsed": false,
    "pycharm": {
     "name": "#%%\n",
     "is_executing": false
    }
   }
  },
  {
   "cell_type": "code",
   "execution_count": 51,
   "outputs": [],
   "source": [
    "bst.save_model('.\\\\model\\\\seeds_multi_prob.model')"
   ],
   "metadata": {
    "collapsed": false,
    "pycharm": {
     "name": "#%%\n",
     "is_executing": false
    }
   }
  },
  {
   "cell_type": "code",
   "execution_count": null,
   "outputs": [],
   "source": [
    "\n"
   ],
   "metadata": {
    "collapsed": false,
    "pycharm": {
     "name": "#%%\n"
    }
   }
  }
 ],
 "metadata": {
  "kernelspec": {
   "display_name": "Python 3",
   "language": "python",
   "name": "python3"
  },
  "language_info": {
   "codemirror_mode": {
    "name": "ipython",
    "version": 2
   },
   "file_extension": ".py",
   "mimetype": "text/x-python",
   "name": "python",
   "nbconvert_exporter": "python",
   "pygments_lexer": "ipython2",
   "version": "2.7.6"
  },
  "pycharm": {
   "stem_cell": {
    "cell_type": "raw",
    "source": [],
    "metadata": {
     "collapsed": false
    }
   }
  }
 },
 "nbformat": 4,
 "nbformat_minor": 0
}