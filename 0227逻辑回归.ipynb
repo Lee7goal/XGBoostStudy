{
 "cells": [
  {
   "cell_type": "code",
   "execution_count": 1,
   "metadata": {
    "collapsed": true,
    "pycharm": {
     "is_executing": false
    }
   },
   "outputs": [
    {
     "data": {
      "text/plain": "'\\n在3.2节，我们学习了用于预测连续值（如房价）的线性回归算法，\\n而有些应用场景下需要预测的是一个离散变量，\\n例如分类问题——判断邮件是否为垃圾邮件。它只有两个取值，\\n1代表是垃圾邮件，0代表不是，\\n因此确切地说，这是一个二分类问题，逻辑回归可用来解决二分类问题\\n'"
     },
     "metadata": {},
     "output_type": "execute_result",
     "execution_count": 1
    }
   ],
   "source": [
    "# 逻辑回归（logistic regression）算法也是机器学习中的经典算法之一\n",
    "# 虽然名为回归，但其实它是一个分类算法，而非回归算法。\n",
    "# 逻辑回归算法具有模型简单、易于理解、计算代价不高等优点，是解决分类问题的一个很好的工具。\n",
    "# 但是，它具有容易欠拟合等缺点。\n",
    "# 因此，我们在使用时要结合算法的优缺点，在不同的应用场景中灵活运用。\n",
    "\n",
    "\"\"\"\n",
    "在3.2节，我们学习了用于预测连续值（如房价）的线性回归算法，\n",
    "而有些应用场景下需要预测的是一个离散变量，\n",
    "例如分类问题——判断邮件是否为垃圾邮件。它只有两个取值，\n",
    "1代表是垃圾邮件，0代表不是，\n",
    "因此确切地说，这是一个二分类问题，逻辑回归可用来解决二分类问题\n",
    "\"\"\""
   ]
  },
  {
   "cell_type": "code",
   "execution_count": 3,
   "outputs": [
    {
     "data": {
      "text/plain": "<Figure size 432x288 with 1 Axes>",
      "image/png": "[encoded data removed]"
     },
     "metadata": {
      "needs_background": "light"
     },
     "output_type": "display_data"
    }
   ],
   "source": [
    "\"\"\"\n",
    "在线性回归中，我们通过线性函数h（x）=ωTx来预测第i个样本yi的值。\n",
    "显然这不能直接应用于二分类的问题中（yi∈{0,1}）。\n",
    "为了预测二分类问题结果的概率（即使预测值落在0～1之间），\n",
    "逻辑回归在线性回归的基础上引入了sigmoid函数，如下：\n",
    "    sigmoid = 1/1 + e^(-z)\n",
    "sigmoid函数是一个连续单调递增的S型函数，\n",
    "关于（0,0.5）对称，它可以将任意值映射为0～1之间的一个新值，\n",
    "如图3-6所示。在机器学习中，经常使用该函数将预测映射为概率值。\n",
    "\"\"\"\n",
    "from matplotlib import pyplot as plt\n",
    "import numpy as np\n",
    "\n",
    "def sigmoid(x):\n",
    "    # 直接返回sigmoid函数\n",
    "    return 1./(1. + np.exp(-x))\n",
    "def sigmoid_show():\n",
    "    x = np.arange(-6,6,0.2)\n",
    "    y = sigmoid(x)\n",
    "    plt.plot(x, y)\n",
    "    plt.show()\n",
    "sigmoid_show()"
   ],
   "metadata": {
    "collapsed": false,
    "pycharm": {
     "name": "#%%\n",
     "is_executing": false
    }
   }
  },
  {
   "cell_type": "code",
   "execution_count": 4,
   "outputs": [
    {
     "data": {
      "text/plain": "'\\nP（Y=1|x）表示在特征x的条件下类别为1的概率，\\nP（Y=0|x）表示类别为0的概率。\\n因此，需要找到一个最优的ω，\\n使得当样本属于类别1时，P（Y=1|x）最大，\\n而当样本属于类别0时，P（Y=0|x）最大。\\n'"
     },
     "metadata": {},
     "output_type": "execute_result",
     "execution_count": 4
    }
   ],
   "source": [
    "# 此时二分类的条件概率可以表示为\n",
    "# P(Y=1|x) = h(x) = 1/(1+e^(-w^Tx))\n",
    "# P(Y=0|x) = 1 - P(Y=1|x) = 1 - h（x）\n",
    "\"\"\"\n",
    "P（Y=1|x）表示在特征x的条件下类别为1的概率，\n",
    "P（Y=0|x）表示类别为0的概率。\n",
    "因此，需要找到一个最优的ω，\n",
    "使得当样本属于类别1时，P（Y=1|x）最大，\n",
    "而当样本属于类别0时，P（Y=0|x）最大。\n",
    "\"\"\""
   ],
   "metadata": {
    "collapsed": false,
    "pycharm": {
     "name": "#%%\n",
     "is_executing": false
    }
   }
  },
  {
   "cell_type": "code",
   "execution_count": 5,
   "outputs": [],
   "source": [
    "# 模型参数估计\n",
    "# 此部分等复习相关理论知识后补上\n"
   ],
   "metadata": {
    "collapsed": false,
    "pycharm": {
     "name": "#%%\n",
     "is_executing": false
    }
   }
  },
  {
   "cell_type": "code",
   "execution_count": null,
   "outputs": [],
   "source": [
    "# 模型评估\n",
    "\"\"\"\n",
    "先介绍一下混淆矩阵\n",
    "              预测值\n",
    "真实值      0         1\n",
    "\n",
    "    0     TN        FP\n",
    "    \n",
    "    1     FN        TP\n",
    "    \n",
    "·True Negative（TN），表示实际为负样本，预测为负样本的样本数；\n",
    "·False Positive（FP），表示实际为负样本，预测为正样本的样本数；\n",
    "·False Negative（FN），表示实际为正样本，预测为负样本的样本数；\n",
    "·True Positive（TP），表示实际为正样本，预测为正样本的样本数。\n",
    "\"\"\"\n",
    "TP = 'True Positive'\n",
    "TN = 'True Negative'\n",
    "FN = 'False Negative'\n",
    "FP = 'False Positive'\n",
    "# 精确率(precision)\n",
    "# 是预测正确的正样本数占预测为正样本总量的比例， 定义如下\n",
    "precision = TP/TP + FP\n",
    "# 召回率(recall)\n",
    "# 召回率（recall）是预测正确的正样本数占实际正样本总数的比例，定义如下：\n",
    "recall = TP/TP + FN\n",
    "# F1-Score\n",
    "# F1-Score（F1）是精确率和召回率的调和均值\n",
    "# 相当于精确率和召回率的综合评价指标。F1-Score假设精确率和召回率同等重要，定义如下：\n",
    "F1 = 2 * precision * recall/precision + recall"
   ],
   "metadata": {
    "collapsed": false,
    "pycharm": {
     "name": "#%%\n"
    }
   }
  }
 ],
 "metadata": {
  "kernelspec": {
   "display_name": "Python 3",
   "language": "python",
   "name": "python3"
  },
  "language_info": {
   "codemirror_mode": {
    "name": "ipython",
    "version": 2
   },
   "file_extension": ".py",
   "mimetype": "text/x-python",
   "name": "python",
   "nbconvert_exporter": "python",
   "pygments_lexer": "ipython2",
   "version": "2.7.6"
  },
  "pycharm": {
   "stem_cell": {
    "cell_type": "raw",
    "source": [],
    "metadata": {
     "collapsed": false
    }
   }
  }
 },
 "nbformat": 4,
 "nbformat_minor": 0
}