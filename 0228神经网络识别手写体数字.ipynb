{
 "cells": [
  {
   "cell_type": "code",
   "execution_count": 10,
   "metadata": {
    "collapsed": true,
    "pycharm": {
     "is_executing": false
    }
   },
   "outputs": [],
   "source": [
    "from sklearn import datasets\n",
    "# 加载手写体数字\n",
    "digits = datasets.load_digits()\n",
    "X = digits.data\n",
    "y = digits.target"
   ]
  },
  {
   "cell_type": "code",
   "execution_count": 11,
   "outputs": [],
   "source": [
    "from sklearn.model_selection import train_test_split\n",
    "# 按4：1的比例分割数据\n",
    "X_train, X_test, y_train, y_test = train_test_split(X, y, test_size=1/5, random_state=8)"
   ],
   "metadata": {
    "collapsed": false,
    "pycharm": {
     "name": "#%%\n",
     "is_executing": false
    }
   }
  },
  {
   "cell_type": "code",
   "execution_count": 12,
   "outputs": [],
   "source": [
    "# 模型拟合和评估\n",
    "from sklearn.neural_network import MLPClassifier\n",
    "from sklearn.metrics import accuracy_score\n",
    "\n",
    "# MLP模型\n",
    "# 首先定义一个MLP模型，这里配置了两个隐藏层，\n",
    "# 其节点数分别是128和64，\n",
    "# L2正则惩罚系数alpha为1e-4，\n",
    "# solver采用随机梯度下降法\n",
    "mlp = MLPClassifier(hidden_layer_sizes=(128,64), max_iter=50, alpha=1e-4, solver='sgd')"
   ],
   "metadata": {
    "collapsed": false,
    "pycharm": {
     "name": "#%%\n",
     "is_executing": false
    }
   }
  },
  {
   "cell_type": "code",
   "execution_count": 13,
   "outputs": [
    {
     "name": "stderr",
     "text": [
      "C:\\ProgramData\\Anaconda3\\lib\\site-packages\\sklearn\\neural_network\\multilayer_perceptron.py:566: ConvergenceWarning: Stochastic Optimizer: Maximum iterations (50) reached and the optimization hasn't converged yet.\n",
      "  % self.max_iter, ConvergenceWarning)\n"
     ],
     "output_type": "stream"
    },
    {
     "data": {
      "text/plain": "MLPClassifier(activation='relu', alpha=0.0001, batch_size='auto', beta_1=0.9,\n              beta_2=0.999, early_stopping=False, epsilon=1e-08,\n              hidden_layer_sizes=(128, 64), learning_rate='constant',\n              learning_rate_init=0.001, max_iter=50, momentum=0.9,\n              n_iter_no_change=10, nesterovs_momentum=True, power_t=0.5,\n              random_state=None, shuffle=True, solver='sgd', tol=0.0001,\n              validation_fraction=0.1, verbose=False, warm_start=False)"
     },
     "metadata": {},
     "output_type": "execute_result",
     "execution_count": 13
    }
   ],
   "source": [
    "# 训练模型\n",
    "mlp.fit(X_train, y_train)"
   ],
   "metadata": {
    "collapsed": false,
    "pycharm": {
     "name": "#%%\n",
     "is_executing": false
    }
   }
  },
  {
   "cell_type": "code",
   "execution_count": 14,
   "outputs": [
    {
     "data": {
      "text/plain": "array([6, 8, 1, 5, 0, 9, 0, 1, 1, 6, 7, 8, 9, 0, 8, 4, 7, 2, 5, 3, 3, 2,\n       4, 0, 1, 3, 8, 9, 7, 7, 7, 0, 3, 7, 8, 9, 2, 1, 6, 3, 2, 1, 7, 4,\n       8, 9, 6, 8, 8, 2, 6, 0, 5, 9, 8, 9, 3, 9, 7, 7, 5, 5, 6, 7, 1, 8,\n       3, 0, 7, 1, 6, 1, 7, 3, 3, 6, 9, 0, 1, 7, 1, 9, 3, 0, 7, 8, 0, 9,\n       8, 7, 7, 5, 5, 7, 9, 4, 5, 3, 5, 9, 0, 3, 1, 0, 8, 8, 3, 0, 5, 5,\n       1, 6, 6, 0, 9, 6, 9, 1, 6, 0, 3, 6, 3, 3, 8, 9, 9, 6, 8, 5, 5, 6,\n       0, 3, 6, 4, 7, 5, 1, 6, 1, 6, 7, 0, 7, 5, 7, 0, 3, 3, 5, 2, 5, 5,\n       2, 2, 7, 5, 4, 1, 0, 6, 9, 6, 3, 8, 1, 6, 0, 5, 3, 2, 6, 1, 9, 7,\n       5, 5, 4, 5, 1, 8, 5, 9, 9, 5, 7, 8, 3, 2, 6, 5, 2, 6, 8, 5, 9, 8,\n       5, 2, 4, 2, 2, 1, 5, 7, 0, 5, 0, 1, 9, 2, 4, 2, 2, 2, 6, 2, 2, 7,\n       6, 0, 3, 2, 5, 7, 1, 2, 4, 6, 4, 6, 2, 6, 0, 9, 9, 5, 0, 6, 9, 7,\n       1, 1, 4, 1, 3, 0, 9, 1, 0, 0, 5, 8, 2, 6, 0, 7, 9, 9, 5, 6, 3, 7,\n       3, 4, 8, 8, 6, 6, 5, 0, 2, 0, 7, 5, 5, 5, 8, 0, 3, 4, 1, 2, 4, 1,\n       3, 9, 1, 5, 1, 8, 4, 1, 5, 7, 1, 8, 4, 6, 5, 1, 3, 5, 1, 7, 5, 2,\n       3, 9, 8, 7, 7, 4, 5, 9, 9, 4, 9, 9, 6, 2, 9, 3, 8, 5, 7, 3, 9, 7,\n       6, 9, 2, 7, 3, 4, 4, 1, 3, 9, 5, 1, 5, 5, 0, 5, 4, 5, 2, 2, 1, 1,\n       0, 7, 2, 3, 0, 3, 7, 7])"
     },
     "metadata": {},
     "output_type": "execute_result",
     "execution_count": 14
    }
   ],
   "source": [
    "y_pred = mlp.predict(X_test)\n",
    "y_pred"
   ],
   "metadata": {
    "collapsed": false,
    "pycharm": {
     "name": "#%%\n",
     "is_executing": false
    }
   }
  },
  {
   "cell_type": "code",
   "execution_count": 15,
   "outputs": [
    {
     "data": {
      "text/plain": "('该神经网络的准确率：', 0.9638888888888889)"
     },
     "metadata": {},
     "output_type": "execute_result",
     "execution_count": 15
    }
   ],
   "source": [
    "# 评估\n",
    "'该神经网络的准确率：', accuracy_score(y_test, y_pred)"
   ],
   "metadata": {
    "collapsed": false,
    "pycharm": {
     "name": "#%%\n",
     "is_executing": false
    }
   }
  },
  {
   "cell_type": "code",
   "execution_count": null,
   "outputs": [],
   "source": [],
   "metadata": {
    "collapsed": false,
    "pycharm": {
     "name": "#%%\n"
    }
   }
  }
 ],
 "metadata": {
  "kernelspec": {
   "display_name": "Python 3",
   "language": "python",
   "name": "python3"
  },
  "language_info": {
   "codemirror_mode": {
    "name": "ipython",
    "version": 2
   },
   "file_extension": ".py",
   "mimetype": "text/x-python",
   "name": "python",
   "nbconvert_exporter": "python",
   "pygments_lexer": "ipython2",
   "version": "2.7.6"
  },
  "pycharm": {
   "stem_cell": {
    "cell_type": "raw",
    "source": [],
    "metadata": {
     "collapsed": false
    }
   }
  }
 },
 "nbformat": 4,
 "nbformat_minor": 0
}