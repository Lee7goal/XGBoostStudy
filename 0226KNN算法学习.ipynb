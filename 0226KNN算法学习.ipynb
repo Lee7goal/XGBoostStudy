{
 "cells": [
  {
   "cell_type": "code",
   "execution_count": null,
   "metadata": {
    "collapsed": true
   },
   "outputs": [],
   "source": [
    "# 3.1KNN\n",
    "\"\"\"\n",
    "KNN（K-Nearest Neighbors）是一种十分有效且易掌握的机器学习算法\n",
    "国际权威学术会议ICDM曾在2006年评选出数据挖掘十大经典算法\n",
    "KNN便是其中之一。KNN的算法思想用一句比较通俗的话来讲就是“近朱者赤，近墨者黑”\n",
    "即同一类事物通常在很多方面都很接近。\n",
    "例如，金丝猴可以分为黔金丝猴、川金丝猴等多种类别\n",
    "同一类别的金丝猴会具有一些相似的特征，如毛发颜色、体型大小、尾巴长度等\n",
    "因此可以通过这些特征来判断金丝猴的种类。KNN就是利用了这一特性\n",
    "假如存在一个样本数据集，数据集中的每个样本都标记了所属的类别\n",
    "对于一个未知类别的样本，KNN会先将其与样本集中数据的特征进行比较，然后返回最邻近（最相似）的数据的类别\n",
    "\"\"\"\n",
    "# 特征空间中的一个样本，如果与其最相似的k个样本中的大部分属于某个类别，则该样本也属于该类别"
   ]
  },
  {
   "cell_type": "code",
   "execution_count": null,
   "outputs": [],
   "source": [
    "# 1)计算测试样本与训练集中所有（或大部分）样本的距离\n",
    "# 该距离可以是欧氏距离、余弦距离等，较常用的是欧氏距离"
   ],
   "metadata": {
    "collapsed": false,
    "pycharm": {
     "name": "#%%\n"
    }
   }
  },
  {
   "cell_type": "code",
   "execution_count": null,
   "outputs": [],
   "source": [
    "# 2)找到步骤1中距离最短的k个样本，作为预测样本的邻居"
   ],
   "metadata": {
    "collapsed": false,
    "pycharm": {
     "name": "#%%\n"
    }
   }
  },
  {
   "cell_type": "code",
   "execution_count": null,
   "outputs": [],
   "source": [
    "# 3)对于分类问题，通过投票机制选出k个邻居中最多的类别作为预测样本的预测值\n",
    "# 对于回归问题，则采用k个邻居的平均值。"
   ],
   "metadata": {
    "collapsed": false,
    "pycharm": {
     "name": "#%%\n"
    }
   }
  },
  {
   "cell_type": "code",
   "execution_count": null,
   "outputs": [],
   "source": [
    "# KNN的优点：简单有效，易于实现；无须训练（或训练很快）。\n",
    "# KNN的缺点：懒惰算法，数据集的样本容量大时计算量比较大，评分慢；样本不平衡时，预测偏差比较大。"
   ],
   "metadata": {
    "collapsed": false,
    "pycharm": {
     "name": "#%%\n"
    }
   }
  },
  {
   "cell_type": "code",
   "execution_count": null,
   "outputs": [],
   "source": [
    "# 3.1.2 用KNN预测鸢尾花品种\n",
    "import pandas as pd\n",
    "\"\"\"\n",
    "·萼片长度（sepal_length）\n",
    "·萼片宽度（sepal_width）\n",
    "·花瓣长度（petal_length）\n",
    "·花瓣宽度（petal_width）\n",
    "\"\"\""
   ],
   "metadata": {
    "collapsed": false,
    "pycharm": {
     "name": "#%%\n"
    }
   }
  },
  {
   "cell_type": "code",
   "execution_count": null,
   "outputs": [],
   "source": [
    "# 读取数据\n",
    "data_url = 'https://archive.ics.uci.edu/ml/machine-learning-databases/iris/iris.data'\n",
    "iris_data = pd.read_csv(\n",
    "    data_url,\n",
    "    sep=\",\", \n",
    "    names=['sepal_length', 'sepal_width', 'petal_length', 'petal_width', 'class']\n",
    ")\n",
    "# iris_data = pd.load_iris()"
   ],
   "metadata": {
    "collapsed": false,
    "pycharm": {
     "name": "#%%\n"
    }
   }
  },
  {
   "cell_type": "code",
   "execution_count": null,
   "outputs": [],
   "source": [
    "iris_data.head(10)"
   ],
   "metadata": {
    "collapsed": false,
    "pycharm": {
     "name": "#%%\n"
    }
   }
  },
  {
   "cell_type": "code",
   "execution_count": null,
   "outputs": [],
   "source": [
    "# 准备做图\n",
    "from matplotlib import pyplot as plt"
   ],
   "metadata": {
    "collapsed": false,
    "pycharm": {
     "name": "#%%\n"
    }
   }
  },
  {
   "cell_type": "code",
   "execution_count": null,
   "outputs": [],
   "source": [
    "# 柱状图显示组平均数\n",
    "# 可以从图上看吹不同品种的属性特点\n",
    "# 把不同的品种分成不同的组，3组\n",
    "grouped_data = iris_data.groupby(\"class\")"
   ],
   "metadata": {
    "collapsed": false,
    "pycharm": {
     "name": "#%%\n"
    }
   }
  },
  {
   "cell_type": "code",
   "execution_count": null,
   "outputs": [],
   "source": [
    "# 求组平均值\n",
    "group_mean = grouped_data.mean()"
   ],
   "metadata": {
    "collapsed": false,
    "pycharm": {
     "name": "#%%\n"
    }
   }
  },
  {
   "cell_type": "code",
   "execution_count": null,
   "outputs": [],
   "source": [
    "# 绘图\n",
    "group_mean.plot(kind=\"bar\")\n",
    "plt.legend(loc=\"center right\", bbox_to_anchor=(1.4, 0.3), ncol=1)\n",
    "plt.show()"
   ],
   "metadata": {
    "collapsed": false,
    "pycharm": {
     "name": "#%%\n"
    }
   }
  },
  {
   "cell_type": "code",
   "execution_count": null,
   "outputs": [],
   "source": [
    "# 我们至少要一个训练集来训练模型\n",
    "# 一个测试机来检验模型对新样本的预测能力"
   ],
   "metadata": {
    "collapsed": false,
    "pycharm": {
     "name": "#%%\n"
    }
   }
  },
  {
   "cell_type": "code",
   "execution_count": null,
   "outputs": [],
   "source": [
    "import numpy as np\n",
    "# 生成一个随机数并选择小于0.8的数据\n",
    "msk = np.random.rand(len(iris_data)) < 0.8\n",
    "\n",
    "train_data_origin = iris_data[msk]\n",
    "test_data_origin = iris_data[~msk]"
   ],
   "metadata": {
    "collapsed": false,
    "pycharm": {
     "name": "#%%\n"
    }
   }
  },
  {
   "cell_type": "code",
   "execution_count": null,
   "outputs": [],
   "source": [],
   "metadata": {
    "collapsed": false,
    "pycharm": {
     "name": "#%%\n"
    }
   }
  }
 ],
 "metadata": {
  "kernelspec": {
   "display_name": "Python 3",
   "language": "python",
   "name": "python3"
  },
  "language_info": {
   "codemirror_mode": {
    "name": "ipython",
    "version": 2
   },
   "file_extension": ".py",
   "mimetype": "text/x-python",
   "name": "python",
   "nbconvert_exporter": "python",
   "pygments_lexer": "ipython2",
   "version": "2.7.6"
  },
  "pycharm": {
   "stem_cell": {
    "cell_type": "raw",
    "source": [],
    "metadata": {
     "collapsed": false
    }
   }
  }
 },
 "nbformat": 4,
 "nbformat_minor": 0
}