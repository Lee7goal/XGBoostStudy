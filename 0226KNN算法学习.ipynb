{
 "cells": [
  {
   "cell_type": "code",
   "execution_count": 31,
   "metadata": {
    "collapsed": true,
    "pycharm": {
     "is_executing": false
    }
   },
   "outputs": [
    {
     "data": {
      "text/plain": "'\\nKNN（K-Nearest Neighbors）是一种十分有效且易掌握的机器学习算法\\n国际权威学术会议ICDM曾在2006年评选出数据挖掘十大经典算法\\nKNN便是其中之一。KNN的算法思想用一句比较通俗的话来讲就是“近朱者赤，近墨者黑”\\n即同一类事物通常在很多方面都很接近。\\n例如，金丝猴可以分为黔金丝猴、川金丝猴等多种类别\\n同一类别的金丝猴会具有一些相似的特征，如毛发颜色、体型大小、尾巴长度等\\n因此可以通过这些特征来判断金丝猴的种类。KNN就是利用了这一特性\\n假如存在一个样本数据集，数据集中的每个样本都标记了所属的类别\\n对于一个未知类别的样本，KNN会先将其与样本集中数据的特征进行比较，然后返回最邻近（最相似）的数据的类别\\n'"
     },
     "metadata": {},
     "output_type": "execute_result",
     "execution_count": 31
    }
   ],
   "source": [
    "# 3.1KNN\n",
    "\"\"\"\n",
    "KNN（K-Nearest Neighbors）是一种十分有效且易掌握的机器学习算法\n",
    "国际权威学术会议ICDM曾在2006年评选出数据挖掘十大经典算法\n",
    "KNN便是其中之一。KNN的算法思想用一句比较通俗的话来讲就是“近朱者赤，近墨者黑”\n",
    "即同一类事物通常在很多方面都很接近。\n",
    "例如，金丝猴可以分为黔金丝猴、川金丝猴等多种类别\n",
    "同一类别的金丝猴会具有一些相似的特征，如毛发颜色、体型大小、尾巴长度等\n",
    "因此可以通过这些特征来判断金丝猴的种类。KNN就是利用了这一特性\n",
    "假如存在一个样本数据集，数据集中的每个样本都标记了所属的类别\n",
    "对于一个未知类别的样本，KNN会先将其与样本集中数据的特征进行比较，然后返回最邻近（最相似）的数据的类别\n",
    "\"\"\"\n",
    "# 特征空间中的一个样本，如果与其最相似的k个样本中的大部分属于某个类别，则该样本也属于该类别"
   ]
  },
  {
   "cell_type": "code",
   "execution_count": 32,
   "outputs": [],
   "source": [
    "# 1)计算测试样本与训练集中所有（或大部分）样本的距离\n",
    "# 该距离可以是欧氏距离、余弦距离等，较常用的是欧氏距离"
   ],
   "metadata": {
    "collapsed": false,
    "pycharm": {
     "name": "#%%\n",
     "is_executing": false
    }
   }
  },
  {
   "cell_type": "code",
   "execution_count": 33,
   "outputs": [],
   "source": [
    "# 2)找到步骤1中距离最短的k个样本，作为预测样本的邻居"
   ],
   "metadata": {
    "collapsed": false,
    "pycharm": {
     "name": "#%%\n",
     "is_executing": false
    }
   }
  },
  {
   "cell_type": "code",
   "execution_count": 34,
   "outputs": [],
   "source": [
    "# 3)对于分类问题，通过投票机制选出k个邻居中最多的类别作为预测样本的预测值\n",
    "# 对于回归问题，则采用k个邻居的平均值。"
   ],
   "metadata": {
    "collapsed": false,
    "pycharm": {
     "name": "#%%\n",
     "is_executing": false
    }
   }
  },
  {
   "cell_type": "code",
   "execution_count": 35,
   "outputs": [],
   "source": [
    "# KNN的优点：简单有效，易于实现；无须训练（或训练很快）。\n",
    "# KNN的缺点：懒惰算法，数据集的样本容量大时计算量比较大，评分慢；样本不平衡时，预测偏差比较大。"
   ],
   "metadata": {
    "collapsed": false,
    "pycharm": {
     "name": "#%%\n",
     "is_executing": false
    }
   }
  },
  {
   "cell_type": "code",
   "execution_count": 36,
   "outputs": [
    {
     "data": {
      "text/plain": "'\\n·萼片长度（sepal_length）\\n·萼片宽度（sepal_width）\\n·花瓣长度（petal_length）\\n·花瓣宽度（petal_width）\\n'"
     },
     "metadata": {},
     "output_type": "execute_result",
     "execution_count": 36
    }
   ],
   "source": [
    "# 3.1.2 用KNN预测鸢尾花品种\n",
    "import pandas as pd\n",
    "\"\"\"\n",
    "·萼片长度（sepal_length）\n",
    "·萼片宽度（sepal_width）\n",
    "·花瓣长度（petal_length）\n",
    "·花瓣宽度（petal_width）\n",
    "\"\"\""
   ],
   "metadata": {
    "collapsed": false,
    "pycharm": {
     "name": "#%%\n",
     "is_executing": false
    }
   }
  },
  {
   "cell_type": "code",
   "execution_count": 37,
   "outputs": [],
   "source": [
    "# 读取数据\n",
    "data_url = 'https://archive.ics.uci.edu/ml/machine-learning-databases/iris/iris.data'\n",
    "iris_data = pd.read_csv(\n",
    "    data_url,\n",
    "    sep=\",\", \n",
    "    names=['sepal_length', 'sepal_width', 'petal_length', 'petal_width', 'class']\n",
    ")\n",
    "# iris_data = pd.load_iris()"
   ],
   "metadata": {
    "collapsed": false,
    "pycharm": {
     "name": "#%%\n",
     "is_executing": false
    }
   }
  },
  {
   "cell_type": "code",
   "execution_count": 38,
   "outputs": [
    {
     "data": {
      "text/plain": "   sepal_length  sepal_width  petal_length  petal_width        class\n0           5.1          3.5           1.4          0.2  Iris-setosa\n1           4.9          3.0           1.4          0.2  Iris-setosa\n2           4.7          3.2           1.3          0.2  Iris-setosa\n3           4.6          3.1           1.5          0.2  Iris-setosa\n4           5.0          3.6           1.4          0.2  Iris-setosa\n5           5.4          3.9           1.7          0.4  Iris-setosa\n6           4.6          3.4           1.4          0.3  Iris-setosa\n7           5.0          3.4           1.5          0.2  Iris-setosa\n8           4.4          2.9           1.4          0.2  Iris-setosa\n9           4.9          3.1           1.5          0.1  Iris-setosa",
      "text/html": "<div>\n<style scoped>\n    .dataframe tbody tr th:only-of-type {\n        vertical-align: middle;\n    }\n\n    .dataframe tbody tr th {\n        vertical-align: top;\n    }\n\n    .dataframe thead th {\n        text-align: right;\n    }\n</style>\n<table border=\"1\" class=\"dataframe\">\n  <thead>\n    <tr style=\"text-align: right;\">\n      <th></th>\n      <th>sepal_length</th>\n      <th>sepal_width</th>\n      <th>petal_length</th>\n      <th>petal_width</th>\n      <th>class</th>\n    </tr>\n  </thead>\n  <tbody>\n    <tr>\n      <td>0</td>\n      <td>5.1</td>\n      <td>3.5</td>\n      <td>1.4</td>\n      <td>0.2</td>\n      <td>Iris-setosa</td>\n    </tr>\n    <tr>\n      <td>1</td>\n      <td>4.9</td>\n      <td>3.0</td>\n      <td>1.4</td>\n      <td>0.2</td>\n      <td>Iris-setosa</td>\n    </tr>\n    <tr>\n      <td>2</td>\n      <td>4.7</td>\n      <td>3.2</td>\n      <td>1.3</td>\n      <td>0.2</td>\n      <td>Iris-setosa</td>\n    </tr>\n    <tr>\n      <td>3</td>\n      <td>4.6</td>\n      <td>3.1</td>\n      <td>1.5</td>\n      <td>0.2</td>\n      <td>Iris-setosa</td>\n    </tr>\n    <tr>\n      <td>4</td>\n      <td>5.0</td>\n      <td>3.6</td>\n      <td>1.4</td>\n      <td>0.2</td>\n      <td>Iris-setosa</td>\n    </tr>\n    <tr>\n      <td>5</td>\n      <td>5.4</td>\n      <td>3.9</td>\n      <td>1.7</td>\n      <td>0.4</td>\n      <td>Iris-setosa</td>\n    </tr>\n    <tr>\n      <td>6</td>\n      <td>4.6</td>\n      <td>3.4</td>\n      <td>1.4</td>\n      <td>0.3</td>\n      <td>Iris-setosa</td>\n    </tr>\n    <tr>\n      <td>7</td>\n      <td>5.0</td>\n      <td>3.4</td>\n      <td>1.5</td>\n      <td>0.2</td>\n      <td>Iris-setosa</td>\n    </tr>\n    <tr>\n      <td>8</td>\n      <td>4.4</td>\n      <td>2.9</td>\n      <td>1.4</td>\n      <td>0.2</td>\n      <td>Iris-setosa</td>\n    </tr>\n    <tr>\n      <td>9</td>\n      <td>4.9</td>\n      <td>3.1</td>\n      <td>1.5</td>\n      <td>0.1</td>\n      <td>Iris-setosa</td>\n    </tr>\n  </tbody>\n</table>\n</div>"
     },
     "metadata": {},
     "output_type": "execute_result",
     "execution_count": 38
    }
   ],
   "source": [
    "iris_data.head(10)"
   ],
   "metadata": {
    "collapsed": false,
    "pycharm": {
     "name": "#%%\n",
     "is_executing": false
    }
   }
  },
  {
   "cell_type": "code",
   "execution_count": 39,
   "outputs": [],
   "source": [
    "# 准备做图\n",
    "from matplotlib import pyplot as plt"
   ],
   "metadata": {
    "collapsed": false,
    "pycharm": {
     "name": "#%%\n",
     "is_executing": false
    }
   }
  },
  {
   "cell_type": "code",
   "execution_count": 40,
   "outputs": [
    {
     "data": {
      "text/plain": "<pandas.core.groupby.generic.DataFrameGroupBy object at 0x0000022B490FE9C8>"
     },
     "metadata": {},
     "output_type": "execute_result",
     "execution_count": 40
    }
   ],
   "source": [
    "# 柱状图显示组平均数\n",
    "# 可以从图上看吹不同品种的属性特点\n",
    "# 把不同的品种分成不同的组，3组\n",
    "grouped_data = iris_data.groupby(\"class\")\n",
    "grouped_data"
   ],
   "metadata": {
    "collapsed": false,
    "pycharm": {
     "name": "#%%\n",
     "is_executing": false
    }
   }
  },
  {
   "cell_type": "code",
   "execution_count": 41,
   "outputs": [
    {
     "data": {
      "text/plain": "                 sepal_length  sepal_width  petal_length  petal_width\nclass                                                                \nIris-setosa             5.006        3.418         1.464        0.244\nIris-versicolor         5.936        2.770         4.260        1.326\nIris-virginica          6.588        2.974         5.552        2.026",
      "text/html": "<div>\n<style scoped>\n    .dataframe tbody tr th:only-of-type {\n        vertical-align: middle;\n    }\n\n    .dataframe tbody tr th {\n        vertical-align: top;\n    }\n\n    .dataframe thead th {\n        text-align: right;\n    }\n</style>\n<table border=\"1\" class=\"dataframe\">\n  <thead>\n    <tr style=\"text-align: right;\">\n      <th></th>\n      <th>sepal_length</th>\n      <th>sepal_width</th>\n      <th>petal_length</th>\n      <th>petal_width</th>\n    </tr>\n    <tr>\n      <th>class</th>\n      <th></th>\n      <th></th>\n      <th></th>\n      <th></th>\n    </tr>\n  </thead>\n  <tbody>\n    <tr>\n      <td>Iris-setosa</td>\n      <td>5.006</td>\n      <td>3.418</td>\n      <td>1.464</td>\n      <td>0.244</td>\n    </tr>\n    <tr>\n      <td>Iris-versicolor</td>\n      <td>5.936</td>\n      <td>2.770</td>\n      <td>4.260</td>\n      <td>1.326</td>\n    </tr>\n    <tr>\n      <td>Iris-virginica</td>\n      <td>6.588</td>\n      <td>2.974</td>\n      <td>5.552</td>\n      <td>2.026</td>\n    </tr>\n  </tbody>\n</table>\n</div>"
     },
     "metadata": {},
     "output_type": "execute_result",
     "execution_count": 41
    }
   ],
   "source": [
    "# 求组平均值\n",
    "group_mean = grouped_data.mean()\n",
    "group_mean"
   ],
   "metadata": {
    "collapsed": false,
    "pycharm": {
     "name": "#%%\n",
     "is_executing": false
    }
   }
  },
  {
   "cell_type": "code",
   "execution_count": 42,
   "outputs": [
    {
     "data": {
      "text/plain": "<Figure size 432x288 with 1 Axes>",
      "image/png": "[encoded data removed]"
     },
     "metadata": {
      "needs_background": "light"
     },
     "output_type": "display_data"
    }
   ],
   "source": [
    "# 绘图\n",
    "group_mean.plot(kind=\"bar\")\n",
    "plt.legend(loc=\"center right\", bbox_to_anchor=(1.4, 0.3), ncol=1)\n",
    "plt.show()"
   ],
   "metadata": {
    "collapsed": false,
    "pycharm": {
     "name": "#%%\n",
     "is_executing": false
    }
   }
  },
  {
   "cell_type": "code",
   "execution_count": 43,
   "outputs": [],
   "source": [
    "# 我们至少要一个训练集来训练模型\n",
    "# 一个测试机来检验模型对新样本的预测能力"
   ],
   "metadata": {
    "collapsed": false,
    "pycharm": {
     "name": "#%%\n",
     "is_executing": false
    }
   }
  },
  {
   "cell_type": "code",
   "execution_count": 44,
   "outputs": [
    {
     "data": {
      "text/plain": "     sepal_length  sepal_width  petal_length  petal_width           class\n0             5.1          3.5           1.4          0.2     Iris-setosa\n1             4.9          3.0           1.4          0.2     Iris-setosa\n4             5.0          3.6           1.4          0.2     Iris-setosa\n7             5.0          3.4           1.5          0.2     Iris-setosa\n8             4.4          2.9           1.4          0.2     Iris-setosa\n..            ...          ...           ...          ...             ...\n145           6.7          3.0           5.2          2.3  Iris-virginica\n146           6.3          2.5           5.0          1.9  Iris-virginica\n147           6.5          3.0           5.2          2.0  Iris-virginica\n148           6.2          3.4           5.4          2.3  Iris-virginica\n149           5.9          3.0           5.1          1.8  Iris-virginica\n\n[123 rows x 5 columns]",
      "text/html": "<div>\n<style scoped>\n    .dataframe tbody tr th:only-of-type {\n        vertical-align: middle;\n    }\n\n    .dataframe tbody tr th {\n        vertical-align: top;\n    }\n\n    .dataframe thead th {\n        text-align: right;\n    }\n</style>\n<table border=\"1\" class=\"dataframe\">\n  <thead>\n    <tr style=\"text-align: right;\">\n      <th></th>\n      <th>sepal_length</th>\n      <th>sepal_width</th>\n      <th>petal_length</th>\n      <th>petal_width</th>\n      <th>class</th>\n    </tr>\n  </thead>\n  <tbody>\n    <tr>\n      <td>0</td>\n      <td>5.1</td>\n      <td>3.5</td>\n      <td>1.4</td>\n      <td>0.2</td>\n      <td>Iris-setosa</td>\n    </tr>\n    <tr>\n      <td>1</td>\n      <td>4.9</td>\n      <td>3.0</td>\n      <td>1.4</td>\n      <td>0.2</td>\n      <td>Iris-setosa</td>\n    </tr>\n    <tr>\n      <td>4</td>\n      <td>5.0</td>\n      <td>3.6</td>\n      <td>1.4</td>\n      <td>0.2</td>\n      <td>Iris-setosa</td>\n    </tr>\n    <tr>\n      <td>7</td>\n      <td>5.0</td>\n      <td>3.4</td>\n      <td>1.5</td>\n      <td>0.2</td>\n      <td>Iris-setosa</td>\n    </tr>\n    <tr>\n      <td>8</td>\n      <td>4.4</td>\n      <td>2.9</td>\n      <td>1.4</td>\n      <td>0.2</td>\n      <td>Iris-setosa</td>\n    </tr>\n    <tr>\n      <td>...</td>\n      <td>...</td>\n      <td>...</td>\n      <td>...</td>\n      <td>...</td>\n      <td>...</td>\n    </tr>\n    <tr>\n      <td>145</td>\n      <td>6.7</td>\n      <td>3.0</td>\n      <td>5.2</td>\n      <td>2.3</td>\n      <td>Iris-virginica</td>\n    </tr>\n    <tr>\n      <td>146</td>\n      <td>6.3</td>\n      <td>2.5</td>\n      <td>5.0</td>\n      <td>1.9</td>\n      <td>Iris-virginica</td>\n    </tr>\n    <tr>\n      <td>147</td>\n      <td>6.5</td>\n      <td>3.0</td>\n      <td>5.2</td>\n      <td>2.0</td>\n      <td>Iris-virginica</td>\n    </tr>\n    <tr>\n      <td>148</td>\n      <td>6.2</td>\n      <td>3.4</td>\n      <td>5.4</td>\n      <td>2.3</td>\n      <td>Iris-virginica</td>\n    </tr>\n    <tr>\n      <td>149</td>\n      <td>5.9</td>\n      <td>3.0</td>\n      <td>5.1</td>\n      <td>1.8</td>\n      <td>Iris-virginica</td>\n    </tr>\n  </tbody>\n</table>\n<p>123 rows × 5 columns</p>\n</div>"
     },
     "metadata": {},
     "output_type": "execute_result",
     "execution_count": 44
    }
   ],
   "source": [
    "import numpy as np\n",
    "# 生成一个随机数并选择小于0.8的数据\n",
    "msk = np.random.rand(len(iris_data)) < 0.8\n",
    "\n",
    "train_data_origin = iris_data[msk]\n",
    "test_data_origin = iris_data[~msk]\n",
    "train_data_origin"
   ],
   "metadata": {
    "collapsed": false,
    "pycharm": {
     "name": "#%%\n",
     "is_executing": false
    }
   }
  },
  {
   "cell_type": "code",
   "execution_count": 45,
   "outputs": [
    {
     "data": {
      "text/plain": "     sepal_length  sepal_width  petal_length  petal_width            class\n2             4.7          3.2           1.3          0.2      Iris-setosa\n3             4.6          3.1           1.5          0.2      Iris-setosa\n5             5.4          3.9           1.7          0.4      Iris-setosa\n6             4.6          3.4           1.4          0.3      Iris-setosa\n22            4.6          3.6           1.0          0.2      Iris-setosa\n30            4.8          3.1           1.6          0.2      Iris-setosa\n33            5.5          4.2           1.4          0.2      Iris-setosa\n45            4.8          3.0           1.4          0.3      Iris-setosa\n46            5.1          3.8           1.6          0.2      Iris-setosa\n57            4.9          2.4           3.3          1.0  Iris-versicolor\n61            5.9          3.0           4.2          1.5  Iris-versicolor\n62            6.0          2.2           4.0          1.0  Iris-versicolor\n74            6.4          2.9           4.3          1.3  Iris-versicolor\n78            6.0          2.9           4.5          1.5  Iris-versicolor\n87            6.3          2.3           4.4          1.3  Iris-versicolor\n96            5.7          2.9           4.2          1.3  Iris-versicolor\n98            5.1          2.5           3.0          1.1  Iris-versicolor\n103           6.3          2.9           5.6          1.8   Iris-virginica\n104           6.5          3.0           5.8          2.2   Iris-virginica\n108           6.7          2.5           5.8          1.8   Iris-virginica\n121           5.6          2.8           4.9          2.0   Iris-virginica\n124           6.7          3.3           5.7          2.1   Iris-virginica\n127           6.1          3.0           4.9          1.8   Iris-virginica\n133           6.3          2.8           5.1          1.5   Iris-virginica\n139           6.9          3.1           5.4          2.1   Iris-virginica\n140           6.7          3.1           5.6          2.4   Iris-virginica\n141           6.9          3.1           5.1          2.3   Iris-virginica",
      "text/html": "<div>\n<style scoped>\n    .dataframe tbody tr th:only-of-type {\n        vertical-align: middle;\n    }\n\n    .dataframe tbody tr th {\n        vertical-align: top;\n    }\n\n    .dataframe thead th {\n        text-align: right;\n    }\n</style>\n<table border=\"1\" class=\"dataframe\">\n  <thead>\n    <tr style=\"text-align: right;\">\n      <th></th>\n      <th>sepal_length</th>\n      <th>sepal_width</th>\n      <th>petal_length</th>\n      <th>petal_width</th>\n      <th>class</th>\n    </tr>\n  </thead>\n  <tbody>\n    <tr>\n      <td>2</td>\n      <td>4.7</td>\n      <td>3.2</td>\n      <td>1.3</td>\n      <td>0.2</td>\n      <td>Iris-setosa</td>\n    </tr>\n    <tr>\n      <td>3</td>\n      <td>4.6</td>\n      <td>3.1</td>\n      <td>1.5</td>\n      <td>0.2</td>\n      <td>Iris-setosa</td>\n    </tr>\n    <tr>\n      <td>5</td>\n      <td>5.4</td>\n      <td>3.9</td>\n      <td>1.7</td>\n      <td>0.4</td>\n      <td>Iris-setosa</td>\n    </tr>\n    <tr>\n      <td>6</td>\n      <td>4.6</td>\n      <td>3.4</td>\n      <td>1.4</td>\n      <td>0.3</td>\n      <td>Iris-setosa</td>\n    </tr>\n    <tr>\n      <td>22</td>\n      <td>4.6</td>\n      <td>3.6</td>\n      <td>1.0</td>\n      <td>0.2</td>\n      <td>Iris-setosa</td>\n    </tr>\n    <tr>\n      <td>30</td>\n      <td>4.8</td>\n      <td>3.1</td>\n      <td>1.6</td>\n      <td>0.2</td>\n      <td>Iris-setosa</td>\n    </tr>\n    <tr>\n      <td>33</td>\n      <td>5.5</td>\n      <td>4.2</td>\n      <td>1.4</td>\n      <td>0.2</td>\n      <td>Iris-setosa</td>\n    </tr>\n    <tr>\n      <td>45</td>\n      <td>4.8</td>\n      <td>3.0</td>\n      <td>1.4</td>\n      <td>0.3</td>\n      <td>Iris-setosa</td>\n    </tr>\n    <tr>\n      <td>46</td>\n      <td>5.1</td>\n      <td>3.8</td>\n      <td>1.6</td>\n      <td>0.2</td>\n      <td>Iris-setosa</td>\n    </tr>\n    <tr>\n      <td>57</td>\n      <td>4.9</td>\n      <td>2.4</td>\n      <td>3.3</td>\n      <td>1.0</td>\n      <td>Iris-versicolor</td>\n    </tr>\n    <tr>\n      <td>61</td>\n      <td>5.9</td>\n      <td>3.0</td>\n      <td>4.2</td>\n      <td>1.5</td>\n      <td>Iris-versicolor</td>\n    </tr>\n    <tr>\n      <td>62</td>\n      <td>6.0</td>\n      <td>2.2</td>\n      <td>4.0</td>\n      <td>1.0</td>\n      <td>Iris-versicolor</td>\n    </tr>\n    <tr>\n      <td>74</td>\n      <td>6.4</td>\n      <td>2.9</td>\n      <td>4.3</td>\n      <td>1.3</td>\n      <td>Iris-versicolor</td>\n    </tr>\n    <tr>\n      <td>78</td>\n      <td>6.0</td>\n      <td>2.9</td>\n      <td>4.5</td>\n      <td>1.5</td>\n      <td>Iris-versicolor</td>\n    </tr>\n    <tr>\n      <td>87</td>\n      <td>6.3</td>\n      <td>2.3</td>\n      <td>4.4</td>\n      <td>1.3</td>\n      <td>Iris-versicolor</td>\n    </tr>\n    <tr>\n      <td>96</td>\n      <td>5.7</td>\n      <td>2.9</td>\n      <td>4.2</td>\n      <td>1.3</td>\n      <td>Iris-versicolor</td>\n    </tr>\n    <tr>\n      <td>98</td>\n      <td>5.1</td>\n      <td>2.5</td>\n      <td>3.0</td>\n      <td>1.1</td>\n      <td>Iris-versicolor</td>\n    </tr>\n    <tr>\n      <td>103</td>\n      <td>6.3</td>\n      <td>2.9</td>\n      <td>5.6</td>\n      <td>1.8</td>\n      <td>Iris-virginica</td>\n    </tr>\n    <tr>\n      <td>104</td>\n      <td>6.5</td>\n      <td>3.0</td>\n      <td>5.8</td>\n      <td>2.2</td>\n      <td>Iris-virginica</td>\n    </tr>\n    <tr>\n      <td>108</td>\n      <td>6.7</td>\n      <td>2.5</td>\n      <td>5.8</td>\n      <td>1.8</td>\n      <td>Iris-virginica</td>\n    </tr>\n    <tr>\n      <td>121</td>\n      <td>5.6</td>\n      <td>2.8</td>\n      <td>4.9</td>\n      <td>2.0</td>\n      <td>Iris-virginica</td>\n    </tr>\n    <tr>\n      <td>124</td>\n      <td>6.7</td>\n      <td>3.3</td>\n      <td>5.7</td>\n      <td>2.1</td>\n      <td>Iris-virginica</td>\n    </tr>\n    <tr>\n      <td>127</td>\n      <td>6.1</td>\n      <td>3.0</td>\n      <td>4.9</td>\n      <td>1.8</td>\n      <td>Iris-virginica</td>\n    </tr>\n    <tr>\n      <td>133</td>\n      <td>6.3</td>\n      <td>2.8</td>\n      <td>5.1</td>\n      <td>1.5</td>\n      <td>Iris-virginica</td>\n    </tr>\n    <tr>\n      <td>139</td>\n      <td>6.9</td>\n      <td>3.1</td>\n      <td>5.4</td>\n      <td>2.1</td>\n      <td>Iris-virginica</td>\n    </tr>\n    <tr>\n      <td>140</td>\n      <td>6.7</td>\n      <td>3.1</td>\n      <td>5.6</td>\n      <td>2.4</td>\n      <td>Iris-virginica</td>\n    </tr>\n    <tr>\n      <td>141</td>\n      <td>6.9</td>\n      <td>3.1</td>\n      <td>5.1</td>\n      <td>2.3</td>\n      <td>Iris-virginica</td>\n    </tr>\n  </tbody>\n</table>\n</div>"
     },
     "metadata": {},
     "output_type": "execute_result",
     "execution_count": 45
    }
   ],
   "source": [
    "test_data_origin"
   ],
   "metadata": {
    "collapsed": false,
    "pycharm": {
     "name": "#%%\n",
     "is_executing": false
    }
   }
  },
  {
   "cell_type": "code",
   "execution_count": 46,
   "outputs": [],
   "source": [
    "# 将生成的x训练集train_data和测试集test_data进行索引重制\n",
    "train_data = train_data_origin.reset_index(drop=True)\n",
    "test_data = test_data_origin.reset_index(drop=True)"
   ],
   "metadata": {
    "collapsed": false,
    "pycharm": {
     "name": "#%%\n",
     "is_executing": false
    }
   }
  },
  {
   "cell_type": "code",
   "execution_count": 47,
   "outputs": [
    {
     "data": {
      "text/plain": "0         Iris-setosa\n1         Iris-setosa\n2         Iris-setosa\n3         Iris-setosa\n4         Iris-setosa\n            ...      \n118    Iris-virginica\n119    Iris-virginica\n120    Iris-virginica\n121    Iris-virginica\n122    Iris-virginica\nName: class, Length: 123, dtype: object"
     },
     "metadata": {},
     "output_type": "execute_result",
     "execution_count": 47
    }
   ],
   "source": [
    "# 训练集label和测试集label\n",
    "train_label = train_data[\"class\"]\n",
    "train_label"
   ],
   "metadata": {
    "collapsed": false,
    "pycharm": {
     "name": "#%%\n",
     "is_executing": false
    }
   }
  },
  {
   "cell_type": "code",
   "execution_count": 48,
   "outputs": [
    {
     "data": {
      "text/plain": "0         Iris-setosa\n1         Iris-setosa\n2         Iris-setosa\n3         Iris-setosa\n4         Iris-setosa\n5         Iris-setosa\n6         Iris-setosa\n7         Iris-setosa\n8         Iris-setosa\n9     Iris-versicolor\n10    Iris-versicolor\n11    Iris-versicolor\n12    Iris-versicolor\n13    Iris-versicolor\n14    Iris-versicolor\n15    Iris-versicolor\n16    Iris-versicolor\n17     Iris-virginica\n18     Iris-virginica\n19     Iris-virginica\n20     Iris-virginica\n21     Iris-virginica\n22     Iris-virginica\n23     Iris-virginica\n24     Iris-virginica\n25     Iris-virginica\n26     Iris-virginica\nName: class, dtype: object"
     },
     "metadata": {},
     "output_type": "execute_result",
     "execution_count": 48
    }
   ],
   "source": [
    "test_label = test_data[\"class\"]\n",
    "test_label"
   ],
   "metadata": {
    "collapsed": false,
    "pycharm": {
     "name": "#%%\n",
     "is_executing": false
    }
   }
  },
  {
   "cell_type": "code",
   "execution_count": 49,
   "outputs": [
    {
     "data": {
      "text/plain": "     sepal_length  sepal_width  petal_length  petal_width\n0             5.1          3.5           1.4          0.2\n1             4.9          3.0           1.4          0.2\n2             5.0          3.6           1.4          0.2\n3             5.0          3.4           1.5          0.2\n4             4.4          2.9           1.4          0.2\n..            ...          ...           ...          ...\n118           6.7          3.0           5.2          2.3\n119           6.3          2.5           5.0          1.9\n120           6.5          3.0           5.2          2.0\n121           6.2          3.4           5.4          2.3\n122           5.9          3.0           5.1          1.8\n\n[123 rows x 4 columns]",
      "text/html": "<div>\n<style scoped>\n    .dataframe tbody tr th:only-of-type {\n        vertical-align: middle;\n    }\n\n    .dataframe tbody tr th {\n        vertical-align: top;\n    }\n\n    .dataframe thead th {\n        text-align: right;\n    }\n</style>\n<table border=\"1\" class=\"dataframe\">\n  <thead>\n    <tr style=\"text-align: right;\">\n      <th></th>\n      <th>sepal_length</th>\n      <th>sepal_width</th>\n      <th>petal_length</th>\n      <th>petal_width</th>\n    </tr>\n  </thead>\n  <tbody>\n    <tr>\n      <td>0</td>\n      <td>5.1</td>\n      <td>3.5</td>\n      <td>1.4</td>\n      <td>0.2</td>\n    </tr>\n    <tr>\n      <td>1</td>\n      <td>4.9</td>\n      <td>3.0</td>\n      <td>1.4</td>\n      <td>0.2</td>\n    </tr>\n    <tr>\n      <td>2</td>\n      <td>5.0</td>\n      <td>3.6</td>\n      <td>1.4</td>\n      <td>0.2</td>\n    </tr>\n    <tr>\n      <td>3</td>\n      <td>5.0</td>\n      <td>3.4</td>\n      <td>1.5</td>\n      <td>0.2</td>\n    </tr>\n    <tr>\n      <td>4</td>\n      <td>4.4</td>\n      <td>2.9</td>\n      <td>1.4</td>\n      <td>0.2</td>\n    </tr>\n    <tr>\n      <td>...</td>\n      <td>...</td>\n      <td>...</td>\n      <td>...</td>\n      <td>...</td>\n    </tr>\n    <tr>\n      <td>118</td>\n      <td>6.7</td>\n      <td>3.0</td>\n      <td>5.2</td>\n      <td>2.3</td>\n    </tr>\n    <tr>\n      <td>119</td>\n      <td>6.3</td>\n      <td>2.5</td>\n      <td>5.0</td>\n      <td>1.9</td>\n    </tr>\n    <tr>\n      <td>120</td>\n      <td>6.5</td>\n      <td>3.0</td>\n      <td>5.2</td>\n      <td>2.0</td>\n    </tr>\n    <tr>\n      <td>121</td>\n      <td>6.2</td>\n      <td>3.4</td>\n      <td>5.4</td>\n      <td>2.3</td>\n    </tr>\n    <tr>\n      <td>122</td>\n      <td>5.9</td>\n      <td>3.0</td>\n      <td>5.1</td>\n      <td>1.8</td>\n    </tr>\n  </tbody>\n</table>\n<p>123 rows × 4 columns</p>\n</div>"
     },
     "metadata": {},
     "output_type": "execute_result",
     "execution_count": 49
    }
   ],
   "source": [
    "# 训练集特征\n",
    "train_fea = train_data.drop('class', 1)\n",
    "train_fea"
   ],
   "metadata": {
    "collapsed": false,
    "pycharm": {
     "name": "#%%\n",
     "is_executing": false
    }
   }
  },
  {
   "cell_type": "code",
   "execution_count": 50,
   "outputs": [
    {
     "data": {
      "text/plain": "    sepal_length  sepal_width  petal_length  petal_width\n0            4.7          3.2           1.3          0.2\n1            4.6          3.1           1.5          0.2\n2            5.4          3.9           1.7          0.4\n3            4.6          3.4           1.4          0.3\n4            4.6          3.6           1.0          0.2\n5            4.8          3.1           1.6          0.2\n6            5.5          4.2           1.4          0.2\n7            4.8          3.0           1.4          0.3\n8            5.1          3.8           1.6          0.2\n9            4.9          2.4           3.3          1.0\n10           5.9          3.0           4.2          1.5\n11           6.0          2.2           4.0          1.0\n12           6.4          2.9           4.3          1.3\n13           6.0          2.9           4.5          1.5\n14           6.3          2.3           4.4          1.3\n15           5.7          2.9           4.2          1.3\n16           5.1          2.5           3.0          1.1\n17           6.3          2.9           5.6          1.8\n18           6.5          3.0           5.8          2.2\n19           6.7          2.5           5.8          1.8\n20           5.6          2.8           4.9          2.0\n21           6.7          3.3           5.7          2.1\n22           6.1          3.0           4.9          1.8\n23           6.3          2.8           5.1          1.5\n24           6.9          3.1           5.4          2.1\n25           6.7          3.1           5.6          2.4\n26           6.9          3.1           5.1          2.3",
      "text/html": "<div>\n<style scoped>\n    .dataframe tbody tr th:only-of-type {\n        vertical-align: middle;\n    }\n\n    .dataframe tbody tr th {\n        vertical-align: top;\n    }\n\n    .dataframe thead th {\n        text-align: right;\n    }\n</style>\n<table border=\"1\" class=\"dataframe\">\n  <thead>\n    <tr style=\"text-align: right;\">\n      <th></th>\n      <th>sepal_length</th>\n      <th>sepal_width</th>\n      <th>petal_length</th>\n      <th>petal_width</th>\n    </tr>\n  </thead>\n  <tbody>\n    <tr>\n      <td>0</td>\n      <td>4.7</td>\n      <td>3.2</td>\n      <td>1.3</td>\n      <td>0.2</td>\n    </tr>\n    <tr>\n      <td>1</td>\n      <td>4.6</td>\n      <td>3.1</td>\n      <td>1.5</td>\n      <td>0.2</td>\n    </tr>\n    <tr>\n      <td>2</td>\n      <td>5.4</td>\n      <td>3.9</td>\n      <td>1.7</td>\n      <td>0.4</td>\n    </tr>\n    <tr>\n      <td>3</td>\n      <td>4.6</td>\n      <td>3.4</td>\n      <td>1.4</td>\n      <td>0.3</td>\n    </tr>\n    <tr>\n      <td>4</td>\n      <td>4.6</td>\n      <td>3.6</td>\n      <td>1.0</td>\n      <td>0.2</td>\n    </tr>\n    <tr>\n      <td>5</td>\n      <td>4.8</td>\n      <td>3.1</td>\n      <td>1.6</td>\n      <td>0.2</td>\n    </tr>\n    <tr>\n      <td>6</td>\n      <td>5.5</td>\n      <td>4.2</td>\n      <td>1.4</td>\n      <td>0.2</td>\n    </tr>\n    <tr>\n      <td>7</td>\n      <td>4.8</td>\n      <td>3.0</td>\n      <td>1.4</td>\n      <td>0.3</td>\n    </tr>\n    <tr>\n      <td>8</td>\n      <td>5.1</td>\n      <td>3.8</td>\n      <td>1.6</td>\n      <td>0.2</td>\n    </tr>\n    <tr>\n      <td>9</td>\n      <td>4.9</td>\n      <td>2.4</td>\n      <td>3.3</td>\n      <td>1.0</td>\n    </tr>\n    <tr>\n      <td>10</td>\n      <td>5.9</td>\n      <td>3.0</td>\n      <td>4.2</td>\n      <td>1.5</td>\n    </tr>\n    <tr>\n      <td>11</td>\n      <td>6.0</td>\n      <td>2.2</td>\n      <td>4.0</td>\n      <td>1.0</td>\n    </tr>\n    <tr>\n      <td>12</td>\n      <td>6.4</td>\n      <td>2.9</td>\n      <td>4.3</td>\n      <td>1.3</td>\n    </tr>\n    <tr>\n      <td>13</td>\n      <td>6.0</td>\n      <td>2.9</td>\n      <td>4.5</td>\n      <td>1.5</td>\n    </tr>\n    <tr>\n      <td>14</td>\n      <td>6.3</td>\n      <td>2.3</td>\n      <td>4.4</td>\n      <td>1.3</td>\n    </tr>\n    <tr>\n      <td>15</td>\n      <td>5.7</td>\n      <td>2.9</td>\n      <td>4.2</td>\n      <td>1.3</td>\n    </tr>\n    <tr>\n      <td>16</td>\n      <td>5.1</td>\n      <td>2.5</td>\n      <td>3.0</td>\n      <td>1.1</td>\n    </tr>\n    <tr>\n      <td>17</td>\n      <td>6.3</td>\n      <td>2.9</td>\n      <td>5.6</td>\n      <td>1.8</td>\n    </tr>\n    <tr>\n      <td>18</td>\n      <td>6.5</td>\n      <td>3.0</td>\n      <td>5.8</td>\n      <td>2.2</td>\n    </tr>\n    <tr>\n      <td>19</td>\n      <td>6.7</td>\n      <td>2.5</td>\n      <td>5.8</td>\n      <td>1.8</td>\n    </tr>\n    <tr>\n      <td>20</td>\n      <td>5.6</td>\n      <td>2.8</td>\n      <td>4.9</td>\n      <td>2.0</td>\n    </tr>\n    <tr>\n      <td>21</td>\n      <td>6.7</td>\n      <td>3.3</td>\n      <td>5.7</td>\n      <td>2.1</td>\n    </tr>\n    <tr>\n      <td>22</td>\n      <td>6.1</td>\n      <td>3.0</td>\n      <td>4.9</td>\n      <td>1.8</td>\n    </tr>\n    <tr>\n      <td>23</td>\n      <td>6.3</td>\n      <td>2.8</td>\n      <td>5.1</td>\n      <td>1.5</td>\n    </tr>\n    <tr>\n      <td>24</td>\n      <td>6.9</td>\n      <td>3.1</td>\n      <td>5.4</td>\n      <td>2.1</td>\n    </tr>\n    <tr>\n      <td>25</td>\n      <td>6.7</td>\n      <td>3.1</td>\n      <td>5.6</td>\n      <td>2.4</td>\n    </tr>\n    <tr>\n      <td>26</td>\n      <td>6.9</td>\n      <td>3.1</td>\n      <td>5.1</td>\n      <td>2.3</td>\n    </tr>\n  </tbody>\n</table>\n</div>"
     },
     "metadata": {},
     "output_type": "execute_result",
     "execution_count": 50
    }
   ],
   "source": [
    "# 测试集特征\n",
    "test_fea = test_data.drop('class', 1)\n",
    "test_fea"
   ],
   "metadata": {
    "collapsed": false,
    "pycharm": {
     "name": "#%%\n",
     "is_executing": false
    }
   }
  },
  {
   "cell_type": "code",
   "execution_count": 51,
   "outputs": [
    {
     "data": {
      "text/plain": "     sepal_length  sepal_width  petal_length  petal_width\n0        0.222222     0.625000      0.051724     0.041667\n1        0.166667     0.416667      0.051724     0.041667\n2        0.194444     0.666667      0.051724     0.041667\n3        0.194444     0.583333      0.068966     0.041667\n4        0.027778     0.375000      0.051724     0.041667\n..            ...          ...           ...          ...\n118      0.666667     0.416667      0.706897     0.916667\n119      0.555556     0.208333      0.672414     0.750000\n120      0.611111     0.416667      0.706897     0.791667\n121      0.527778     0.583333      0.741379     0.916667\n122      0.444444     0.416667      0.689655     0.708333\n\n[123 rows x 4 columns]",
      "text/html": "<div>\n<style scoped>\n    .dataframe tbody tr th:only-of-type {\n        vertical-align: middle;\n    }\n\n    .dataframe tbody tr th {\n        vertical-align: top;\n    }\n\n    .dataframe thead th {\n        text-align: right;\n    }\n</style>\n<table border=\"1\" class=\"dataframe\">\n  <thead>\n    <tr style=\"text-align: right;\">\n      <th></th>\n      <th>sepal_length</th>\n      <th>sepal_width</th>\n      <th>petal_length</th>\n      <th>petal_width</th>\n    </tr>\n  </thead>\n  <tbody>\n    <tr>\n      <td>0</td>\n      <td>0.222222</td>\n      <td>0.625000</td>\n      <td>0.051724</td>\n      <td>0.041667</td>\n    </tr>\n    <tr>\n      <td>1</td>\n      <td>0.166667</td>\n      <td>0.416667</td>\n      <td>0.051724</td>\n      <td>0.041667</td>\n    </tr>\n    <tr>\n      <td>2</td>\n      <td>0.194444</td>\n      <td>0.666667</td>\n      <td>0.051724</td>\n      <td>0.041667</td>\n    </tr>\n    <tr>\n      <td>3</td>\n      <td>0.194444</td>\n      <td>0.583333</td>\n      <td>0.068966</td>\n      <td>0.041667</td>\n    </tr>\n    <tr>\n      <td>4</td>\n      <td>0.027778</td>\n      <td>0.375000</td>\n      <td>0.051724</td>\n      <td>0.041667</td>\n    </tr>\n    <tr>\n      <td>...</td>\n      <td>...</td>\n      <td>...</td>\n      <td>...</td>\n      <td>...</td>\n    </tr>\n    <tr>\n      <td>118</td>\n      <td>0.666667</td>\n      <td>0.416667</td>\n      <td>0.706897</td>\n      <td>0.916667</td>\n    </tr>\n    <tr>\n      <td>119</td>\n      <td>0.555556</td>\n      <td>0.208333</td>\n      <td>0.672414</td>\n      <td>0.750000</td>\n    </tr>\n    <tr>\n      <td>120</td>\n      <td>0.611111</td>\n      <td>0.416667</td>\n      <td>0.706897</td>\n      <td>0.791667</td>\n    </tr>\n    <tr>\n      <td>121</td>\n      <td>0.527778</td>\n      <td>0.583333</td>\n      <td>0.741379</td>\n      <td>0.916667</td>\n    </tr>\n    <tr>\n      <td>122</td>\n      <td>0.444444</td>\n      <td>0.416667</td>\n      <td>0.689655</td>\n      <td>0.708333</td>\n    </tr>\n  </tbody>\n</table>\n<p>123 rows × 4 columns</p>\n</div>"
     },
     "metadata": {},
     "output_type": "execute_result",
     "execution_count": 51
    }
   ],
   "source": [
    "# 样本距离\n",
    "train_norm= (train_fea - train_fea.min())/(train_fea.max() - train_fea.min())\n",
    "train_norm"
   ],
   "metadata": {
    "collapsed": false,
    "pycharm": {
     "name": "#%%\n",
     "is_executing": false
    }
   }
  },
  {
   "cell_type": "code",
   "execution_count": 52,
   "outputs": [
    {
     "data": {
      "text/plain": "    sepal_length  sepal_width  petal_length  petal_width\n0       0.043478         0.50      0.062500     0.000000\n1       0.000000         0.45      0.104167     0.000000\n2       0.347826         0.85      0.145833     0.090909\n3       0.000000         0.60      0.083333     0.045455\n4       0.000000         0.70      0.000000     0.000000\n5       0.086957         0.45      0.125000     0.000000\n6       0.391304         1.00      0.083333     0.000000\n7       0.086957         0.40      0.083333     0.045455\n8       0.217391         0.80      0.125000     0.000000\n9       0.130435         0.10      0.479167     0.363636\n10      0.565217         0.40      0.666667     0.590909\n11      0.608696         0.00      0.625000     0.363636\n12      0.782609         0.35      0.687500     0.500000\n13      0.608696         0.35      0.729167     0.590909\n14      0.739130         0.05      0.708333     0.500000\n15      0.478261         0.35      0.666667     0.500000\n16      0.217391         0.15      0.416667     0.409091\n17      0.739130         0.35      0.958333     0.727273\n18      0.826087         0.40      1.000000     0.909091\n19      0.913043         0.15      1.000000     0.727273\n20      0.434783         0.30      0.812500     0.818182\n21      0.913043         0.55      0.979167     0.863636\n22      0.652174         0.40      0.812500     0.727273\n23      0.739130         0.30      0.854167     0.590909\n24      1.000000         0.45      0.916667     0.863636\n25      0.913043         0.45      0.958333     1.000000\n26      1.000000         0.45      0.854167     0.954545",
      "text/html": "<div>\n<style scoped>\n    .dataframe tbody tr th:only-of-type {\n        vertical-align: middle;\n    }\n\n    .dataframe tbody tr th {\n        vertical-align: top;\n    }\n\n    .dataframe thead th {\n        text-align: right;\n    }\n</style>\n<table border=\"1\" class=\"dataframe\">\n  <thead>\n    <tr style=\"text-align: right;\">\n      <th></th>\n      <th>sepal_length</th>\n      <th>sepal_width</th>\n      <th>petal_length</th>\n      <th>petal_width</th>\n    </tr>\n  </thead>\n  <tbody>\n    <tr>\n      <td>0</td>\n      <td>0.043478</td>\n      <td>0.50</td>\n      <td>0.062500</td>\n      <td>0.000000</td>\n    </tr>\n    <tr>\n      <td>1</td>\n      <td>0.000000</td>\n      <td>0.45</td>\n      <td>0.104167</td>\n      <td>0.000000</td>\n    </tr>\n    <tr>\n      <td>2</td>\n      <td>0.347826</td>\n      <td>0.85</td>\n      <td>0.145833</td>\n      <td>0.090909</td>\n    </tr>\n    <tr>\n      <td>3</td>\n      <td>0.000000</td>\n      <td>0.60</td>\n      <td>0.083333</td>\n      <td>0.045455</td>\n    </tr>\n    <tr>\n      <td>4</td>\n      <td>0.000000</td>\n      <td>0.70</td>\n      <td>0.000000</td>\n      <td>0.000000</td>\n    </tr>\n    <tr>\n      <td>5</td>\n      <td>0.086957</td>\n      <td>0.45</td>\n      <td>0.125000</td>\n      <td>0.000000</td>\n    </tr>\n    <tr>\n      <td>6</td>\n      <td>0.391304</td>\n      <td>1.00</td>\n      <td>0.083333</td>\n      <td>0.000000</td>\n    </tr>\n    <tr>\n      <td>7</td>\n      <td>0.086957</td>\n      <td>0.40</td>\n      <td>0.083333</td>\n      <td>0.045455</td>\n    </tr>\n    <tr>\n      <td>8</td>\n      <td>0.217391</td>\n      <td>0.80</td>\n      <td>0.125000</td>\n      <td>0.000000</td>\n    </tr>\n    <tr>\n      <td>9</td>\n      <td>0.130435</td>\n      <td>0.10</td>\n      <td>0.479167</td>\n      <td>0.363636</td>\n    </tr>\n    <tr>\n      <td>10</td>\n      <td>0.565217</td>\n      <td>0.40</td>\n      <td>0.666667</td>\n      <td>0.590909</td>\n    </tr>\n    <tr>\n      <td>11</td>\n      <td>0.608696</td>\n      <td>0.00</td>\n      <td>0.625000</td>\n      <td>0.363636</td>\n    </tr>\n    <tr>\n      <td>12</td>\n      <td>0.782609</td>\n      <td>0.35</td>\n      <td>0.687500</td>\n      <td>0.500000</td>\n    </tr>\n    <tr>\n      <td>13</td>\n      <td>0.608696</td>\n      <td>0.35</td>\n      <td>0.729167</td>\n      <td>0.590909</td>\n    </tr>\n    <tr>\n      <td>14</td>\n      <td>0.739130</td>\n      <td>0.05</td>\n      <td>0.708333</td>\n      <td>0.500000</td>\n    </tr>\n    <tr>\n      <td>15</td>\n      <td>0.478261</td>\n      <td>0.35</td>\n      <td>0.666667</td>\n      <td>0.500000</td>\n    </tr>\n    <tr>\n      <td>16</td>\n      <td>0.217391</td>\n      <td>0.15</td>\n      <td>0.416667</td>\n      <td>0.409091</td>\n    </tr>\n    <tr>\n      <td>17</td>\n      <td>0.739130</td>\n      <td>0.35</td>\n      <td>0.958333</td>\n      <td>0.727273</td>\n    </tr>\n    <tr>\n      <td>18</td>\n      <td>0.826087</td>\n      <td>0.40</td>\n      <td>1.000000</td>\n      <td>0.909091</td>\n    </tr>\n    <tr>\n      <td>19</td>\n      <td>0.913043</td>\n      <td>0.15</td>\n      <td>1.000000</td>\n      <td>0.727273</td>\n    </tr>\n    <tr>\n      <td>20</td>\n      <td>0.434783</td>\n      <td>0.30</td>\n      <td>0.812500</td>\n      <td>0.818182</td>\n    </tr>\n    <tr>\n      <td>21</td>\n      <td>0.913043</td>\n      <td>0.55</td>\n      <td>0.979167</td>\n      <td>0.863636</td>\n    </tr>\n    <tr>\n      <td>22</td>\n      <td>0.652174</td>\n      <td>0.40</td>\n      <td>0.812500</td>\n      <td>0.727273</td>\n    </tr>\n    <tr>\n      <td>23</td>\n      <td>0.739130</td>\n      <td>0.30</td>\n      <td>0.854167</td>\n      <td>0.590909</td>\n    </tr>\n    <tr>\n      <td>24</td>\n      <td>1.000000</td>\n      <td>0.45</td>\n      <td>0.916667</td>\n      <td>0.863636</td>\n    </tr>\n    <tr>\n      <td>25</td>\n      <td>0.913043</td>\n      <td>0.45</td>\n      <td>0.958333</td>\n      <td>1.000000</td>\n    </tr>\n    <tr>\n      <td>26</td>\n      <td>1.000000</td>\n      <td>0.45</td>\n      <td>0.854167</td>\n      <td>0.954545</td>\n    </tr>\n  </tbody>\n</table>\n</div>"
     },
     "metadata": {},
     "output_type": "execute_result",
     "execution_count": 52
    }
   ],
   "source": [
    "# 测试同理\n",
    "test_norm = (test_fea - test_fea.min())/(test_fea.max() - test_fea.min())\n",
    "test_norm"
   ],
   "metadata": {
    "collapsed": false,
    "pycharm": {
     "name": "#%%\n",
     "is_executing": false
    }
   }
  },
  {
   "cell_type": "code",
   "execution_count": 53,
   "outputs": [],
   "source": [
    "# 建立评估模型\n",
    "def getAccuracy(testSet, predictions):\n",
    "    correct = 0\n",
    "    # 遍历每个测试样本，判断是否正确并进行统计\n",
    "    for x in range(len(testSet)):\n",
    "        if testSet[x] == predictions[x]:\n",
    "            correct += 1\n",
    "        # 计算并返回准确率\n",
    "    return (correct/float(len(testSet))) * 100.0"
   ],
   "metadata": {
    "collapsed": false,
    "pycharm": {
     "name": "#%%\n",
     "is_executing": false
    }
   }
  },
  {
   "cell_type": "code",
   "execution_count": 54,
   "outputs": [
    {
     "data": {
      "text/plain": "KNeighborsClassifier(algorithm='auto', leaf_size=30, metric='minkowski',\n                     metric_params=None, n_jobs=None, n_neighbors=3, p=2,\n                     weights='uniform')"
     },
     "metadata": {},
     "output_type": "execute_result",
     "execution_count": 54
    }
   ],
   "source": [
    "# 利用sklearn算法进行预测和评估\n",
    "from sklearn import neighbors\n",
    "# 定义KNN模型\n",
    "knn = neighbors.KNeighborsClassifier(n_neighbors=3)\n",
    "knn.fit(train_norm, train_label)"
   ],
   "metadata": {
    "collapsed": false,
    "pycharm": {
     "name": "#%%\n",
     "is_executing": false
    }
   }
  },
  {
   "cell_type": "code",
   "execution_count": 55,
   "outputs": [
    {
     "data": {
      "text/plain": "array(['Iris-setosa', 'Iris-setosa', 'Iris-setosa', 'Iris-setosa',\n       'Iris-setosa', 'Iris-setosa', 'Iris-setosa', 'Iris-setosa',\n       'Iris-setosa', 'Iris-versicolor', 'Iris-versicolor',\n       'Iris-versicolor', 'Iris-versicolor', 'Iris-versicolor',\n       'Iris-versicolor', 'Iris-versicolor', 'Iris-versicolor',\n       'Iris-virginica', 'Iris-virginica', 'Iris-virginica',\n       'Iris-virginica', 'Iris-virginica', 'Iris-virginica',\n       'Iris-virginica', 'Iris-virginica', 'Iris-virginica',\n       'Iris-virginica'], dtype=object)"
     },
     "metadata": {},
     "output_type": "execute_result",
     "execution_count": 55
    }
   ],
   "source": [
    "# 对测试集进行预测\n",
    "predict = knn.predict(test_norm)\n",
    "predict"
   ],
   "metadata": {
    "collapsed": false,
    "pycharm": {
     "name": "#%%\n",
     "is_executing": false
    }
   }
  },
  {
   "cell_type": "code",
   "execution_count": 56,
   "outputs": [
    {
     "name": "stdout",
     "text": [
      "accuracy:100.0%\n"
     ],
     "output_type": "stream"
    }
   ],
   "source": [
    "# 评估模型准确率\n",
    "accuracy = getAccuracy(test_label, predict)\n",
    "print(\"accuracy:\" + repr(accuracy) + \"%\")"
   ],
   "metadata": {
    "collapsed": false,
    "pycharm": {
     "name": "#%%\n",
     "is_executing": false
    }
   }
  },
  {
   "cell_type": "code",
   "execution_count": null,
   "outputs": [],
   "source": [
    "\n"
   ],
   "metadata": {
    "collapsed": false,
    "pycharm": {
     "name": "#%%\n"
    }
   }
  }
 ],
 "metadata": {
  "kernelspec": {
   "display_name": "Python 3",
   "language": "python",
   "name": "python3"
  },
  "language_info": {
   "codemirror_mode": {
    "name": "ipython",
    "version": 2
   },
   "file_extension": ".py",
   "mimetype": "text/x-python",
   "name": "python",
   "nbconvert_exporter": "python",
   "pygments_lexer": "ipython2",
   "version": "2.7.6"
  },
  "pycharm": {
   "stem_cell": {
    "cell_type": "raw",
    "source": [],
    "metadata": {
     "collapsed": false
    }
   }
  }
 },
 "nbformat": 4,
 "nbformat_minor": 0
}